{
 "cells": [
  {
   "cell_type": "code",
   "execution_count": 1,
   "metadata": {},
   "outputs": [
    {
     "data": {
      "text/html": [
       "        <script type=\"text/javascript\">\n",
       "        window.PlotlyConfig = {MathJaxConfig: 'local'};\n",
       "        if (window.MathJax) {MathJax.Hub.Config({SVG: {font: \"STIX-Web\"}});}\n",
       "        if (typeof require !== 'undefined') {\n",
       "        require.undef(\"plotly\");\n",
       "        requirejs.config({\n",
       "            paths: {\n",
       "                'plotly': ['https://cdn.plot.ly/plotly-latest.min']\n",
       "            }\n",
       "        });\n",
       "        require(['plotly'], function(Plotly) {\n",
       "            window._Plotly = Plotly;\n",
       "        });\n",
       "        }\n",
       "        </script>\n",
       "        "
      ]
     },
     "metadata": {},
     "output_type": "display_data"
    }
   ],
   "source": [
    "import warnings\n",
    "warnings.simplefilter('ignore')\n",
    "import pandas as pd\n",
    "import numpy as np \n",
    "import matplotlib.pyplot as plt\n",
    "import seaborn as sns\n",
    "from sklearn.preprocessing import LabelEncoder,StandardScaler\n",
    "from sklearn.model_selection import train_test_split as tts,cross_val_score,ShuffleSplit\n",
    "from imblearn.over_sampling import SMOTE\n",
    "from sklearn.tree import DecisionTreeClassifier\n",
    "from sklearn.ensemble import RandomForestClassifier\n",
    "from xgboost import XGBClassifier\n",
    "from sklearn.cluster import KMeans\n",
    "from sklearn.decomposition import PCA\n",
    "from sklearn.metrics import accuracy_score,f1_score,classification_report,roc_auc_score\n",
    "pd.set_option('display.max_columns', None)\n",
    "#pd.set_option('display.max_rows',None)\n",
    "from plotly import tools\n",
    "import plotly.offline as py\n",
    "py.init_notebook_mode(connected=True)\n",
    "import plotly.graph_objs as go\n",
    "import plotly_express as px"
   ]
  },
  {
   "cell_type": "code",
   "execution_count": 2,
   "metadata": {},
   "outputs": [],
   "source": [
    "master_df=pd.read_csv(\"master_df.csv\")"
   ]
  },
  {
   "cell_type": "code",
   "execution_count": 3,
   "metadata": {},
   "outputs": [
    {
     "data": {
      "text/html": [
       "<div>\n",
       "<style scoped>\n",
       "    .dataframe tbody tr th:only-of-type {\n",
       "        vertical-align: middle;\n",
       "    }\n",
       "\n",
       "    .dataframe tbody tr th {\n",
       "        vertical-align: top;\n",
       "    }\n",
       "\n",
       "    .dataframe thead th {\n",
       "        text-align: right;\n",
       "    }\n",
       "</style>\n",
       "<table border=\"1\" class=\"dataframe\">\n",
       "  <thead>\n",
       "    <tr style=\"text-align: right;\">\n",
       "      <th></th>\n",
       "      <th>Unnamed: 0</th>\n",
       "      <th>Cust Type</th>\n",
       "      <th>Customer No.</th>\n",
       "      <th>State</th>\n",
       "      <th>Gate Pass Time</th>\n",
       "      <th>Invoice No</th>\n",
       "      <th>KMs Reading</th>\n",
       "      <th>Labour Total</th>\n",
       "      <th>Make</th>\n",
       "      <th>Model</th>\n",
       "      <th>Order Type</th>\n",
       "      <th>Plant</th>\n",
       "      <th>Print Status</th>\n",
       "      <th>Business Partner</th>\n",
       "      <th>Partner Type</th>\n",
       "      <th>Data Origin</th>\n",
       "      <th>Title</th>\n",
       "      <th>City</th>\n",
       "      <th>Regn State</th>\n",
       "      <th>Invoice Date-Invoice Time</th>\n",
       "      <th>JobCard Date-JobCard Time</th>\n",
       "      <th>Year</th>\n",
       "      <th>Month</th>\n",
       "      <th>Total_Expense</th>\n",
       "      <th>Job_duration(in hrs)</th>\n",
       "    </tr>\n",
       "  </thead>\n",
       "  <tbody>\n",
       "    <tr>\n",
       "      <th>0</th>\n",
       "      <td>0</td>\n",
       "      <td>retail</td>\n",
       "      <td>67849</td>\n",
       "      <td>maharashtra</td>\n",
       "      <td>00:00:00</td>\n",
       "      <td>7005200002</td>\n",
       "      <td>49317</td>\n",
       "      <td>1203.14</td>\n",
       "      <td>general motors</td>\n",
       "      <td>spark</td>\n",
       "      <td>paid service</td>\n",
       "      <td>bc01</td>\n",
       "      <td>no</td>\n",
       "      <td>71941</td>\n",
       "      <td>Retail</td>\n",
       "      <td>Used Car Dealer</td>\n",
       "      <td>2.0</td>\n",
       "      <td>thane</td>\n",
       "      <td>Karnataka</td>\n",
       "      <td>2015-01-02 11:30:36</td>\n",
       "      <td>2014-12-13 14:29:43</td>\n",
       "      <td>2015</td>\n",
       "      <td>1</td>\n",
       "      <td>6900.76</td>\n",
       "      <td>477.014722</td>\n",
       "    </tr>\n",
       "    <tr>\n",
       "      <th>1</th>\n",
       "      <td>1</td>\n",
       "      <td>retail</td>\n",
       "      <td>84419</td>\n",
       "      <td>maharashtra</td>\n",
       "      <td>00:00:00</td>\n",
       "      <td>7005200003</td>\n",
       "      <td>78584</td>\n",
       "      <td>804.26</td>\n",
       "      <td>tata</td>\n",
       "      <td>indica</td>\n",
       "      <td>smc value package</td>\n",
       "      <td>bc01</td>\n",
       "      <td>no</td>\n",
       "      <td>89441</td>\n",
       "      <td>Retail</td>\n",
       "      <td>Camp-Outdoor</td>\n",
       "      <td>2.0</td>\n",
       "      <td>thnae</td>\n",
       "      <td>Maharashtra</td>\n",
       "      <td>2015-01-03 10:07:32</td>\n",
       "      <td>2015-01-02 14:12:18</td>\n",
       "      <td>2015</td>\n",
       "      <td>1</td>\n",
       "      <td>1198.32</td>\n",
       "      <td>19.920556</td>\n",
       "    </tr>\n",
       "    <tr>\n",
       "      <th>2</th>\n",
       "      <td>2</td>\n",
       "      <td>retail</td>\n",
       "      <td>81055</td>\n",
       "      <td>maharashtra</td>\n",
       "      <td>00:00:00</td>\n",
       "      <td>7005200004</td>\n",
       "      <td>33985</td>\n",
       "      <td>180.19</td>\n",
       "      <td>maruti</td>\n",
       "      <td>zen</td>\n",
       "      <td>running repairs</td>\n",
       "      <td>bc01</td>\n",
       "      <td>no</td>\n",
       "      <td>85849</td>\n",
       "      <td>Retail</td>\n",
       "      <td>Ref-Customer</td>\n",
       "      <td>2.0</td>\n",
       "      <td>thane[w]</td>\n",
       "      <td>Andhra Pradesh</td>\n",
       "      <td>2015-01-03 11:12:57</td>\n",
       "      <td>2015-01-02 11:40:44</td>\n",
       "      <td>2015</td>\n",
       "      <td>1</td>\n",
       "      <td>286.09</td>\n",
       "      <td>23.536944</td>\n",
       "    </tr>\n",
       "    <tr>\n",
       "      <th>3</th>\n",
       "      <td>3</td>\n",
       "      <td>retail</td>\n",
       "      <td>84419</td>\n",
       "      <td>maharashtra</td>\n",
       "      <td>00:00:00</td>\n",
       "      <td>7005200005</td>\n",
       "      <td>78584</td>\n",
       "      <td>0.00</td>\n",
       "      <td>tata</td>\n",
       "      <td>indica</td>\n",
       "      <td>smc redemption</td>\n",
       "      <td>bc01</td>\n",
       "      <td>no</td>\n",
       "      <td>89441</td>\n",
       "      <td>Retail</td>\n",
       "      <td>Camp-Outdoor</td>\n",
       "      <td>2.0</td>\n",
       "      <td>thnae</td>\n",
       "      <td>Maharashtra</td>\n",
       "      <td>2015-01-03 11:40:44</td>\n",
       "      <td>2015-01-03 10:12:32</td>\n",
       "      <td>2015</td>\n",
       "      <td>1</td>\n",
       "      <td>0.00</td>\n",
       "      <td>1.470000</td>\n",
       "    </tr>\n",
       "    <tr>\n",
       "      <th>4</th>\n",
       "      <td>4</td>\n",
       "      <td>retail</td>\n",
       "      <td>18980</td>\n",
       "      <td>maharashtra</td>\n",
       "      <td>00:00:00</td>\n",
       "      <td>7005200006</td>\n",
       "      <td>50057</td>\n",
       "      <td>1202.97</td>\n",
       "      <td>hyundai</td>\n",
       "      <td>santro xing</td>\n",
       "      <td>paid service</td>\n",
       "      <td>bc01</td>\n",
       "      <td>no</td>\n",
       "      <td>20291</td>\n",
       "      <td>Retail</td>\n",
       "      <td>Ref-Customer</td>\n",
       "      <td>2.0</td>\n",
       "      <td>thane</td>\n",
       "      <td>Maharashtra</td>\n",
       "      <td>2015-01-03 12:07:17</td>\n",
       "      <td>2015-01-02 10:45:42</td>\n",
       "      <td>2015</td>\n",
       "      <td>1</td>\n",
       "      <td>4291.27</td>\n",
       "      <td>25.359722</td>\n",
       "    </tr>\n",
       "    <tr>\n",
       "      <th>...</th>\n",
       "      <td>...</td>\n",
       "      <td>...</td>\n",
       "      <td>...</td>\n",
       "      <td>...</td>\n",
       "      <td>...</td>\n",
       "      <td>...</td>\n",
       "      <td>...</td>\n",
       "      <td>...</td>\n",
       "      <td>...</td>\n",
       "      <td>...</td>\n",
       "      <td>...</td>\n",
       "      <td>...</td>\n",
       "      <td>...</td>\n",
       "      <td>...</td>\n",
       "      <td>...</td>\n",
       "      <td>...</td>\n",
       "      <td>...</td>\n",
       "      <td>...</td>\n",
       "      <td>...</td>\n",
       "      <td>...</td>\n",
       "      <td>...</td>\n",
       "      <td>...</td>\n",
       "      <td>...</td>\n",
       "      <td>...</td>\n",
       "      <td>...</td>\n",
       "    </tr>\n",
       "    <tr>\n",
       "      <th>479544</th>\n",
       "      <td>492051</td>\n",
       "      <td>retail</td>\n",
       "      <td>203820</td>\n",
       "      <td>tamil nadu</td>\n",
       "      <td>00:00:00</td>\n",
       "      <td>7231000017</td>\n",
       "      <td>72546</td>\n",
       "      <td>2495.90</td>\n",
       "      <td>maruti</td>\n",
       "      <td>alto</td>\n",
       "      <td>paid service</td>\n",
       "      <td>x405</td>\n",
       "      <td>no</td>\n",
       "      <td>214278</td>\n",
       "      <td>Retail</td>\n",
       "      <td>Newspaper AD</td>\n",
       "      <td>2.0</td>\n",
       "      <td>chennai</td>\n",
       "      <td>Tamil Nadu</td>\n",
       "      <td>2016-06-30 14:56:58</td>\n",
       "      <td>2016-06-30 09:15:12</td>\n",
       "      <td>2016</td>\n",
       "      <td>6</td>\n",
       "      <td>6420.40</td>\n",
       "      <td>5.696111</td>\n",
       "    </tr>\n",
       "    <tr>\n",
       "      <th>479545</th>\n",
       "      <td>492052</td>\n",
       "      <td>retail</td>\n",
       "      <td>170411</td>\n",
       "      <td>tamil nadu</td>\n",
       "      <td>00:00:00</td>\n",
       "      <td>7231000018</td>\n",
       "      <td>18968</td>\n",
       "      <td>2443.47</td>\n",
       "      <td>nissan</td>\n",
       "      <td>micra</td>\n",
       "      <td>paid service</td>\n",
       "      <td>x405</td>\n",
       "      <td>no</td>\n",
       "      <td>179429</td>\n",
       "      <td>Retail</td>\n",
       "      <td>Ref-Employee</td>\n",
       "      <td>2.0</td>\n",
       "      <td>chennai</td>\n",
       "      <td>Tamil Nadu</td>\n",
       "      <td>2016-06-30 15:06:52</td>\n",
       "      <td>2016-06-30 08:42:15</td>\n",
       "      <td>2016</td>\n",
       "      <td>6</td>\n",
       "      <td>11220.69</td>\n",
       "      <td>6.410278</td>\n",
       "    </tr>\n",
       "    <tr>\n",
       "      <th>479546</th>\n",
       "      <td>492053</td>\n",
       "      <td>retail</td>\n",
       "      <td>48811</td>\n",
       "      <td>tamil nadu</td>\n",
       "      <td>00:00:00</td>\n",
       "      <td>7231000019</td>\n",
       "      <td>177433</td>\n",
       "      <td>2598.92</td>\n",
       "      <td>mahindra</td>\n",
       "      <td>scorpio crde</td>\n",
       "      <td>paid service</td>\n",
       "      <td>x405</td>\n",
       "      <td>no</td>\n",
       "      <td>52039</td>\n",
       "      <td>Retail</td>\n",
       "      <td>Spotted outlet</td>\n",
       "      <td>2.0</td>\n",
       "      <td>chennai</td>\n",
       "      <td>Tamil Nadu</td>\n",
       "      <td>2016-06-30 15:43:56</td>\n",
       "      <td>2016-06-30 08:27:51</td>\n",
       "      <td>2016</td>\n",
       "      <td>6</td>\n",
       "      <td>15776.50</td>\n",
       "      <td>7.268056</td>\n",
       "    </tr>\n",
       "    <tr>\n",
       "      <th>479547</th>\n",
       "      <td>492054</td>\n",
       "      <td>retail</td>\n",
       "      <td>204067</td>\n",
       "      <td>tamil nadu</td>\n",
       "      <td>00:00:00</td>\n",
       "      <td>7231000020</td>\n",
       "      <td>22932</td>\n",
       "      <td>11000.00</td>\n",
       "      <td>honda</td>\n",
       "      <td>amaze</td>\n",
       "      <td>accidental</td>\n",
       "      <td>x405</td>\n",
       "      <td>no</td>\n",
       "      <td>214514</td>\n",
       "      <td>Retail</td>\n",
       "      <td>Spotted outlet</td>\n",
       "      <td>2.0</td>\n",
       "      <td>chennai</td>\n",
       "      <td>Tamil Nadu</td>\n",
       "      <td>2016-06-30 15:58:59</td>\n",
       "      <td>2016-06-30 12:53:48</td>\n",
       "      <td>2016</td>\n",
       "      <td>6</td>\n",
       "      <td>11200.00</td>\n",
       "      <td>3.086389</td>\n",
       "    </tr>\n",
       "    <tr>\n",
       "      <th>479548</th>\n",
       "      <td>492055</td>\n",
       "      <td>retail</td>\n",
       "      <td>204288</td>\n",
       "      <td>tamil nadu</td>\n",
       "      <td>00:00:00</td>\n",
       "      <td>7231000021</td>\n",
       "      <td>149197</td>\n",
       "      <td>747.78</td>\n",
       "      <td>maruti</td>\n",
       "      <td>wagonr</td>\n",
       "      <td>running repairs</td>\n",
       "      <td>x405</td>\n",
       "      <td>no</td>\n",
       "      <td>214736</td>\n",
       "      <td>Retail</td>\n",
       "      <td>Spotted outlet</td>\n",
       "      <td>2.0</td>\n",
       "      <td>chennai</td>\n",
       "      <td>Tamil Nadu</td>\n",
       "      <td>2016-06-30 17:09:19</td>\n",
       "      <td>2016-06-30 16:54:06</td>\n",
       "      <td>2016</td>\n",
       "      <td>6</td>\n",
       "      <td>747.78</td>\n",
       "      <td>0.253611</td>\n",
       "    </tr>\n",
       "  </tbody>\n",
       "</table>\n",
       "<p>479549 rows × 25 columns</p>\n",
       "</div>"
      ],
      "text/plain": [
       "        Unnamed: 0 Cust Type Customer No.        State Gate Pass Time  \\\n",
       "0                0    retail        67849  maharashtra       00:00:00   \n",
       "1                1    retail        84419  maharashtra       00:00:00   \n",
       "2                2    retail        81055  maharashtra       00:00:00   \n",
       "3                3    retail        84419  maharashtra       00:00:00   \n",
       "4                4    retail        18980  maharashtra       00:00:00   \n",
       "...            ...       ...          ...          ...            ...   \n",
       "479544      492051    retail       203820   tamil nadu       00:00:00   \n",
       "479545      492052    retail       170411   tamil nadu       00:00:00   \n",
       "479546      492053    retail        48811   tamil nadu       00:00:00   \n",
       "479547      492054    retail       204067   tamil nadu       00:00:00   \n",
       "479548      492055    retail       204288   tamil nadu       00:00:00   \n",
       "\n",
       "        Invoice No  KMs Reading  Labour Total            Make         Model  \\\n",
       "0       7005200002        49317       1203.14  general motors         spark   \n",
       "1       7005200003        78584        804.26            tata        indica   \n",
       "2       7005200004        33985        180.19          maruti           zen   \n",
       "3       7005200005        78584          0.00            tata        indica   \n",
       "4       7005200006        50057       1202.97         hyundai   santro xing   \n",
       "...            ...          ...           ...             ...           ...   \n",
       "479544  7231000017        72546       2495.90          maruti          alto   \n",
       "479545  7231000018        18968       2443.47          nissan         micra   \n",
       "479546  7231000019       177433       2598.92        mahindra  scorpio crde   \n",
       "479547  7231000020        22932      11000.00           honda         amaze   \n",
       "479548  7231000021       149197        747.78          maruti        wagonr   \n",
       "\n",
       "               Order Type Plant Print Status Business Partner Partner Type  \\\n",
       "0            paid service  bc01           no            71941       Retail   \n",
       "1       smc value package  bc01           no            89441       Retail   \n",
       "2         running repairs  bc01           no            85849       Retail   \n",
       "3          smc redemption  bc01           no            89441       Retail   \n",
       "4            paid service  bc01           no            20291       Retail   \n",
       "...                   ...   ...          ...              ...          ...   \n",
       "479544       paid service  x405           no           214278       Retail   \n",
       "479545       paid service  x405           no           179429       Retail   \n",
       "479546       paid service  x405           no            52039       Retail   \n",
       "479547         accidental  x405           no           214514       Retail   \n",
       "479548    running repairs  x405           no           214736       Retail   \n",
       "\n",
       "            Data Origin  Title      City      Regn State  \\\n",
       "0       Used Car Dealer    2.0     thane       Karnataka   \n",
       "1          Camp-Outdoor    2.0     thnae     Maharashtra   \n",
       "2          Ref-Customer    2.0  thane[w]  Andhra Pradesh   \n",
       "3          Camp-Outdoor    2.0     thnae     Maharashtra   \n",
       "4          Ref-Customer    2.0     thane     Maharashtra   \n",
       "...                 ...    ...       ...             ...   \n",
       "479544     Newspaper AD    2.0   chennai      Tamil Nadu   \n",
       "479545     Ref-Employee    2.0   chennai      Tamil Nadu   \n",
       "479546   Spotted outlet    2.0   chennai      Tamil Nadu   \n",
       "479547   Spotted outlet    2.0   chennai      Tamil Nadu   \n",
       "479548   Spotted outlet    2.0   chennai      Tamil Nadu   \n",
       "\n",
       "       Invoice Date-Invoice Time JobCard Date-JobCard Time  Year  Month  \\\n",
       "0            2015-01-02 11:30:36       2014-12-13 14:29:43  2015      1   \n",
       "1            2015-01-03 10:07:32       2015-01-02 14:12:18  2015      1   \n",
       "2            2015-01-03 11:12:57       2015-01-02 11:40:44  2015      1   \n",
       "3            2015-01-03 11:40:44       2015-01-03 10:12:32  2015      1   \n",
       "4            2015-01-03 12:07:17       2015-01-02 10:45:42  2015      1   \n",
       "...                          ...                       ...   ...    ...   \n",
       "479544       2016-06-30 14:56:58       2016-06-30 09:15:12  2016      6   \n",
       "479545       2016-06-30 15:06:52       2016-06-30 08:42:15  2016      6   \n",
       "479546       2016-06-30 15:43:56       2016-06-30 08:27:51  2016      6   \n",
       "479547       2016-06-30 15:58:59       2016-06-30 12:53:48  2016      6   \n",
       "479548       2016-06-30 17:09:19       2016-06-30 16:54:06  2016      6   \n",
       "\n",
       "        Total_Expense  Job_duration(in hrs)  \n",
       "0             6900.76            477.014722  \n",
       "1             1198.32             19.920556  \n",
       "2              286.09             23.536944  \n",
       "3                0.00              1.470000  \n",
       "4             4291.27             25.359722  \n",
       "...               ...                   ...  \n",
       "479544        6420.40              5.696111  \n",
       "479545       11220.69              6.410278  \n",
       "479546       15776.50              7.268056  \n",
       "479547       11200.00              3.086389  \n",
       "479548         747.78              0.253611  \n",
       "\n",
       "[479549 rows x 25 columns]"
      ]
     },
     "execution_count": 3,
     "metadata": {},
     "output_type": "execute_result"
    }
   ],
   "source": [
    "master_df"
   ]
  },
  {
   "cell_type": "code",
   "execution_count": 4,
   "metadata": {},
   "outputs": [
    {
     "data": {
      "text/plain": [
       "False    479462\n",
       "True         87\n",
       "Name: Make, dtype: int64"
      ]
     },
     "execution_count": 4,
     "metadata": {},
     "output_type": "execute_result"
    }
   ],
   "source": [
    "(master_df.Make==\"premierauto\").value_counts()"
   ]
  },
  {
   "cell_type": "code",
   "execution_count": 5,
   "metadata": {},
   "outputs": [
    {
     "data": {
      "text/html": [
       "<div>\n",
       "<style scoped>\n",
       "    .dataframe tbody tr th:only-of-type {\n",
       "        vertical-align: middle;\n",
       "    }\n",
       "\n",
       "    .dataframe tbody tr th {\n",
       "        vertical-align: top;\n",
       "    }\n",
       "\n",
       "    .dataframe thead th {\n",
       "        text-align: right;\n",
       "    }\n",
       "</style>\n",
       "<table border=\"1\" class=\"dataframe\">\n",
       "  <thead>\n",
       "    <tr style=\"text-align: right;\">\n",
       "      <th></th>\n",
       "      <th>Unnamed: 0</th>\n",
       "      <th>Cust Type</th>\n",
       "      <th>Customer No.</th>\n",
       "      <th>State</th>\n",
       "      <th>Gate Pass Time</th>\n",
       "      <th>Invoice No</th>\n",
       "      <th>KMs Reading</th>\n",
       "      <th>Labour Total</th>\n",
       "      <th>Make</th>\n",
       "      <th>Model</th>\n",
       "      <th>Order Type</th>\n",
       "      <th>Plant</th>\n",
       "      <th>Print Status</th>\n",
       "      <th>Business Partner</th>\n",
       "      <th>Partner Type</th>\n",
       "      <th>Data Origin</th>\n",
       "      <th>Title</th>\n",
       "      <th>City</th>\n",
       "      <th>Regn State</th>\n",
       "      <th>Invoice Date-Invoice Time</th>\n",
       "      <th>JobCard Date-JobCard Time</th>\n",
       "      <th>Year</th>\n",
       "      <th>Month</th>\n",
       "      <th>Total_Expense</th>\n",
       "      <th>Job_duration(in hrs)</th>\n",
       "    </tr>\n",
       "  </thead>\n",
       "  <tbody>\n",
       "    <tr>\n",
       "      <th>351463</th>\n",
       "      <td>358893</td>\n",
       "      <td>retail</td>\n",
       "      <td>182085</td>\n",
       "      <td>tamil nadu</td>\n",
       "      <td>00:00:00</td>\n",
       "      <td>7167000988</td>\n",
       "      <td>62001</td>\n",
       "      <td>0.0</td>\n",
       "      <td>maruti</td>\n",
       "      <td>swift dzire</td>\n",
       "      <td>running repairs</td>\n",
       "      <td>x085</td>\n",
       "      <td>no</td>\n",
       "      <td>191639</td>\n",
       "      <td>Retail</td>\n",
       "      <td>Camp-Outdoor</td>\n",
       "      <td>1.0</td>\n",
       "      <td>chengalpattu</td>\n",
       "      <td>Tamil Nadu</td>\n",
       "      <td>2016-05-02 15:12:11</td>\n",
       "      <td>2016-05-02 15:12:44</td>\n",
       "      <td>2016</td>\n",
       "      <td>5</td>\n",
       "      <td>0.0</td>\n",
       "      <td>-0.009167</td>\n",
       "    </tr>\n",
       "  </tbody>\n",
       "</table>\n",
       "</div>"
      ],
      "text/plain": [
       "        Unnamed: 0 Cust Type Customer No.       State Gate Pass Time  \\\n",
       "351463      358893    retail       182085  tamil nadu       00:00:00   \n",
       "\n",
       "        Invoice No  KMs Reading  Labour Total    Make        Model  \\\n",
       "351463  7167000988        62001           0.0  maruti  swift dzire   \n",
       "\n",
       "             Order Type Plant Print Status Business Partner Partner Type  \\\n",
       "351463  running repairs  x085           no           191639       Retail   \n",
       "\n",
       "         Data Origin  Title          City  Regn State  \\\n",
       "351463  Camp-Outdoor    1.0  chengalpattu  Tamil Nadu   \n",
       "\n",
       "       Invoice Date-Invoice Time JobCard Date-JobCard Time  Year  Month  \\\n",
       "351463       2016-05-02 15:12:11       2016-05-02 15:12:44  2016      5   \n",
       "\n",
       "        Total_Expense  Job_duration(in hrs)  \n",
       "351463            0.0             -0.009167  "
      ]
     },
     "execution_count": 5,
     "metadata": {},
     "output_type": "execute_result"
    }
   ],
   "source": [
    "master_df[master_df['Job_duration(in hrs)']<0]"
   ]
  },
  {
   "cell_type": "code",
   "execution_count": 6,
   "metadata": {},
   "outputs": [],
   "source": [
    "master_df.drop(index=351463,axis=0,inplace=True)"
   ]
  },
  {
   "cell_type": "code",
   "execution_count": 7,
   "metadata": {},
   "outputs": [
    {
     "data": {
      "text/plain": [
       "2016    190826\n",
       "2015    122142\n",
       "2014     93706\n",
       "2013     54852\n",
       "2012     18022\n",
       "Name: Year, dtype: int64"
      ]
     },
     "execution_count": 7,
     "metadata": {},
     "output_type": "execute_result"
    }
   ],
   "source": [
    "master_df.Year.value_counts()"
   ]
  },
  {
   "cell_type": "markdown",
   "metadata": {},
   "source": [
    "### Calculation of Life Time Value for each customer over a period of 2015 (1 year) based on \"Make\" and \"Model\" of the cars"
   ]
  },
  {
   "cell_type": "code",
   "execution_count": 8,
   "metadata": {},
   "outputs": [],
   "source": [
    "year_15=master_df[master_df[\"Year\"]==2016]"
   ]
  },
  {
   "cell_type": "code",
   "execution_count": 9,
   "metadata": {},
   "outputs": [],
   "source": [
    "year_15.drop([\"Unnamed: 0\"],1,inplace=True)"
   ]
  },
  {
   "cell_type": "code",
   "execution_count": 10,
   "metadata": {},
   "outputs": [
    {
     "data": {
      "text/html": [
       "<div>\n",
       "<style scoped>\n",
       "    .dataframe tbody tr th:only-of-type {\n",
       "        vertical-align: middle;\n",
       "    }\n",
       "\n",
       "    .dataframe tbody tr th {\n",
       "        vertical-align: top;\n",
       "    }\n",
       "\n",
       "    .dataframe thead th {\n",
       "        text-align: right;\n",
       "    }\n",
       "</style>\n",
       "<table border=\"1\" class=\"dataframe\">\n",
       "  <thead>\n",
       "    <tr style=\"text-align: right;\">\n",
       "      <th></th>\n",
       "      <th>Cust Type</th>\n",
       "      <th>Customer No.</th>\n",
       "      <th>State</th>\n",
       "      <th>Gate Pass Time</th>\n",
       "      <th>Invoice No</th>\n",
       "      <th>KMs Reading</th>\n",
       "      <th>Labour Total</th>\n",
       "      <th>Make</th>\n",
       "      <th>Model</th>\n",
       "      <th>Order Type</th>\n",
       "      <th>Plant</th>\n",
       "      <th>Print Status</th>\n",
       "      <th>Business Partner</th>\n",
       "      <th>Partner Type</th>\n",
       "      <th>Data Origin</th>\n",
       "      <th>Title</th>\n",
       "      <th>City</th>\n",
       "      <th>Regn State</th>\n",
       "      <th>Invoice Date-Invoice Time</th>\n",
       "      <th>JobCard Date-JobCard Time</th>\n",
       "      <th>Year</th>\n",
       "      <th>Month</th>\n",
       "      <th>Total_Expense</th>\n",
       "      <th>Job_duration(in hrs)</th>\n",
       "    </tr>\n",
       "  </thead>\n",
       "  <tbody>\n",
       "    <tr>\n",
       "      <th>288722</th>\n",
       "      <td>retail</td>\n",
       "      <td>119371</td>\n",
       "      <td>maharashtra</td>\n",
       "      <td>15:41:33</td>\n",
       "      <td>7005202789</td>\n",
       "      <td>35654</td>\n",
       "      <td>1125.76</td>\n",
       "      <td>maruti</td>\n",
       "      <td>zen estilo</td>\n",
       "      <td>smc value package</td>\n",
       "      <td>bc01</td>\n",
       "      <td>yes</td>\n",
       "      <td>126260</td>\n",
       "      <td>Retail</td>\n",
       "      <td>Ref-Customer</td>\n",
       "      <td>2.0</td>\n",
       "      <td>bhandup</td>\n",
       "      <td>Maharashtra</td>\n",
       "      <td>2016-01-02 11:27:27</td>\n",
       "      <td>2016-01-02 10:52:24</td>\n",
       "      <td>2016</td>\n",
       "      <td>1</td>\n",
       "      <td>5872.80</td>\n",
       "      <td>0.584167</td>\n",
       "    </tr>\n",
       "    <tr>\n",
       "      <th>288723</th>\n",
       "      <td>retail</td>\n",
       "      <td>128929</td>\n",
       "      <td>maharashtra</td>\n",
       "      <td>13:05:33</td>\n",
       "      <td>7005202790</td>\n",
       "      <td>70730</td>\n",
       "      <td>233.85</td>\n",
       "      <td>maruti</td>\n",
       "      <td>swift</td>\n",
       "      <td>running repairs</td>\n",
       "      <td>bc01</td>\n",
       "      <td>yes</td>\n",
       "      <td>136299</td>\n",
       "      <td>Retail</td>\n",
       "      <td>Camp-Outdoor</td>\n",
       "      <td>2.0</td>\n",
       "      <td>thane</td>\n",
       "      <td>Maharashtra</td>\n",
       "      <td>2016-01-02 13:03:16</td>\n",
       "      <td>2016-01-02 11:50:58</td>\n",
       "      <td>2016</td>\n",
       "      <td>1</td>\n",
       "      <td>624.73</td>\n",
       "      <td>1.205000</td>\n",
       "    </tr>\n",
       "  </tbody>\n",
       "</table>\n",
       "</div>"
      ],
      "text/plain": [
       "       Cust Type Customer No.        State Gate Pass Time  Invoice No  \\\n",
       "288722    retail       119371  maharashtra       15:41:33  7005202789   \n",
       "288723    retail       128929  maharashtra       13:05:33  7005202790   \n",
       "\n",
       "        KMs Reading  Labour Total    Make       Model         Order Type  \\\n",
       "288722        35654       1125.76  maruti  zen estilo  smc value package   \n",
       "288723        70730        233.85  maruti       swift    running repairs   \n",
       "\n",
       "       Plant Print Status Business Partner Partner Type   Data Origin  Title  \\\n",
       "288722  bc01          yes           126260       Retail  Ref-Customer    2.0   \n",
       "288723  bc01          yes           136299       Retail  Camp-Outdoor    2.0   \n",
       "\n",
       "           City   Regn State Invoice Date-Invoice Time  \\\n",
       "288722  bhandup  Maharashtra       2016-01-02 11:27:27   \n",
       "288723    thane  Maharashtra       2016-01-02 13:03:16   \n",
       "\n",
       "       JobCard Date-JobCard Time  Year  Month  Total_Expense  \\\n",
       "288722       2016-01-02 10:52:24  2016      1        5872.80   \n",
       "288723       2016-01-02 11:50:58  2016      1         624.73   \n",
       "\n",
       "        Job_duration(in hrs)  \n",
       "288722              0.584167  \n",
       "288723              1.205000  "
      ]
     },
     "execution_count": 10,
     "metadata": {},
     "output_type": "execute_result"
    }
   ],
   "source": [
    "year_15.head(2)"
   ]
  },
  {
   "cell_type": "code",
   "execution_count": 11,
   "metadata": {},
   "outputs": [
    {
     "data": {
      "text/html": [
       "<div>\n",
       "<style scoped>\n",
       "    .dataframe tbody tr th:only-of-type {\n",
       "        vertical-align: middle;\n",
       "    }\n",
       "\n",
       "    .dataframe tbody tr th {\n",
       "        vertical-align: top;\n",
       "    }\n",
       "\n",
       "    .dataframe thead th {\n",
       "        text-align: right;\n",
       "    }\n",
       "</style>\n",
       "<table border=\"1\" class=\"dataframe\">\n",
       "  <thead>\n",
       "    <tr style=\"text-align: right;\">\n",
       "      <th></th>\n",
       "      <th>Make</th>\n",
       "      <th>Model</th>\n",
       "      <th>City</th>\n",
       "      <th>Customer No.</th>\n",
       "      <th>Invoice No</th>\n",
       "      <th>Total_Expense</th>\n",
       "      <th>Job_duration(in hrs)</th>\n",
       "    </tr>\n",
       "  </thead>\n",
       "  <tbody>\n",
       "    <tr>\n",
       "      <th>0</th>\n",
       "      <td>audi</td>\n",
       "      <td>a4</td>\n",
       "      <td>ahmednagar</td>\n",
       "      <td>129425</td>\n",
       "      <td>1</td>\n",
       "      <td>1921.400</td>\n",
       "      <td>361.850833</td>\n",
       "    </tr>\n",
       "    <tr>\n",
       "      <th>1</th>\n",
       "      <td>audi</td>\n",
       "      <td>a4</td>\n",
       "      <td>bengaluru</td>\n",
       "      <td>197826</td>\n",
       "      <td>1</td>\n",
       "      <td>0.000</td>\n",
       "      <td>839.515278</td>\n",
       "    </tr>\n",
       "    <tr>\n",
       "      <th>2</th>\n",
       "      <td>audi</td>\n",
       "      <td>a4</td>\n",
       "      <td>bhubaneswar</td>\n",
       "      <td>259799</td>\n",
       "      <td>1</td>\n",
       "      <td>330.500</td>\n",
       "      <td>0.056944</td>\n",
       "    </tr>\n",
       "    <tr>\n",
       "      <th>3</th>\n",
       "      <td>audi</td>\n",
       "      <td>a4</td>\n",
       "      <td>chennai</td>\n",
       "      <td>251998</td>\n",
       "      <td>1</td>\n",
       "      <td>243275.150</td>\n",
       "      <td>359.626667</td>\n",
       "    </tr>\n",
       "    <tr>\n",
       "      <th>4</th>\n",
       "      <td>audi</td>\n",
       "      <td>a4</td>\n",
       "      <td>dharmapuri</td>\n",
       "      <td>99532</td>\n",
       "      <td>5</td>\n",
       "      <td>7304.606</td>\n",
       "      <td>60.879889</td>\n",
       "    </tr>\n",
       "    <tr>\n",
       "      <th>5</th>\n",
       "      <td>audi</td>\n",
       "      <td>a4</td>\n",
       "      <td>ghazibad</td>\n",
       "      <td>141369</td>\n",
       "      <td>1</td>\n",
       "      <td>497.780</td>\n",
       "      <td>1.346111</td>\n",
       "    </tr>\n",
       "    <tr>\n",
       "      <th>6</th>\n",
       "      <td>audi</td>\n",
       "      <td>a4</td>\n",
       "      <td>indore</td>\n",
       "      <td>158521</td>\n",
       "      <td>3</td>\n",
       "      <td>23460.480</td>\n",
       "      <td>31.365926</td>\n",
       "    </tr>\n",
       "    <tr>\n",
       "      <th>7</th>\n",
       "      <td>audi</td>\n",
       "      <td>a4</td>\n",
       "      <td>indore</td>\n",
       "      <td>238765</td>\n",
       "      <td>2</td>\n",
       "      <td>59167.160</td>\n",
       "      <td>145.511389</td>\n",
       "    </tr>\n",
       "    <tr>\n",
       "      <th>8</th>\n",
       "      <td>audi</td>\n",
       "      <td>a4</td>\n",
       "      <td>kakinada</td>\n",
       "      <td>182988</td>\n",
       "      <td>2</td>\n",
       "      <td>479.380</td>\n",
       "      <td>12.871528</td>\n",
       "    </tr>\n",
       "    <tr>\n",
       "      <th>9</th>\n",
       "      <td>audi</td>\n",
       "      <td>a4</td>\n",
       "      <td>kakinada</td>\n",
       "      <td>243916</td>\n",
       "      <td>1</td>\n",
       "      <td>1478.300</td>\n",
       "      <td>4.828611</td>\n",
       "    </tr>\n",
       "  </tbody>\n",
       "</table>\n",
       "</div>"
      ],
      "text/plain": [
       "   Make Model         City Customer No.  Invoice No  Total_Expense  \\\n",
       "0  audi    a4   ahmednagar       129425           1       1921.400   \n",
       "1  audi    a4    bengaluru       197826           1          0.000   \n",
       "2  audi    a4  bhubaneswar       259799           1        330.500   \n",
       "3  audi    a4      chennai       251998           1     243275.150   \n",
       "4  audi    a4   dharmapuri        99532           5       7304.606   \n",
       "5  audi    a4     ghazibad       141369           1        497.780   \n",
       "6  audi    a4       indore       158521           3      23460.480   \n",
       "7  audi    a4       indore       238765           2      59167.160   \n",
       "8  audi    a4     kakinada       182988           2        479.380   \n",
       "9  audi    a4     kakinada       243916           1       1478.300   \n",
       "\n",
       "   Job_duration(in hrs)  \n",
       "0            361.850833  \n",
       "1            839.515278  \n",
       "2              0.056944  \n",
       "3            359.626667  \n",
       "4             60.879889  \n",
       "5              1.346111  \n",
       "6             31.365926  \n",
       "7            145.511389  \n",
       "8             12.871528  \n",
       "9              4.828611  "
      ]
     },
     "execution_count": 11,
     "metadata": {},
     "output_type": "execute_result"
    }
   ],
   "source": [
    "# Calculating frequency of visits & total revenue of a customer for calculation of ltv\n",
    "\n",
    "customer_freq=year_15.groupby([\"Make\",\"Model\",\"City\",\"Customer No.\"]).agg({\"Invoice No\":'nunique',\"Total_Expense\":'mean',\"Job_duration(in hrs)\":'mean'})\n",
    "customer_freq=customer_freq.reset_index()\n",
    "\n",
    "customer_freq.head(10)"
   ]
  },
  {
   "cell_type": "code",
   "execution_count": 12,
   "metadata": {},
   "outputs": [
    {
     "data": {
      "text/html": [
       "<div>\n",
       "<style scoped>\n",
       "    .dataframe tbody tr th:only-of-type {\n",
       "        vertical-align: middle;\n",
       "    }\n",
       "\n",
       "    .dataframe tbody tr th {\n",
       "        vertical-align: top;\n",
       "    }\n",
       "\n",
       "    .dataframe thead th {\n",
       "        text-align: right;\n",
       "    }\n",
       "</style>\n",
       "<table border=\"1\" class=\"dataframe\">\n",
       "  <thead>\n",
       "    <tr style=\"text-align: right;\">\n",
       "      <th></th>\n",
       "      <th>Make</th>\n",
       "      <th>Model</th>\n",
       "      <th>City</th>\n",
       "      <th>Customer No.</th>\n",
       "      <th>Invoice No</th>\n",
       "      <th>Total_Expense</th>\n",
       "      <th>Job_duration(in hrs)</th>\n",
       "      <th>LTV</th>\n",
       "    </tr>\n",
       "  </thead>\n",
       "  <tbody>\n",
       "    <tr>\n",
       "      <th>0</th>\n",
       "      <td>audi</td>\n",
       "      <td>a4</td>\n",
       "      <td>ahmednagar</td>\n",
       "      <td>129425</td>\n",
       "      <td>1</td>\n",
       "      <td>1921.400</td>\n",
       "      <td>361.850833</td>\n",
       "      <td>1921.40</td>\n",
       "    </tr>\n",
       "    <tr>\n",
       "      <th>1</th>\n",
       "      <td>audi</td>\n",
       "      <td>a4</td>\n",
       "      <td>bengaluru</td>\n",
       "      <td>197826</td>\n",
       "      <td>1</td>\n",
       "      <td>0.000</td>\n",
       "      <td>839.515278</td>\n",
       "      <td>0.00</td>\n",
       "    </tr>\n",
       "    <tr>\n",
       "      <th>2</th>\n",
       "      <td>audi</td>\n",
       "      <td>a4</td>\n",
       "      <td>bhubaneswar</td>\n",
       "      <td>259799</td>\n",
       "      <td>1</td>\n",
       "      <td>330.500</td>\n",
       "      <td>0.056944</td>\n",
       "      <td>330.50</td>\n",
       "    </tr>\n",
       "    <tr>\n",
       "      <th>3</th>\n",
       "      <td>audi</td>\n",
       "      <td>a4</td>\n",
       "      <td>chennai</td>\n",
       "      <td>251998</td>\n",
       "      <td>1</td>\n",
       "      <td>243275.150</td>\n",
       "      <td>359.626667</td>\n",
       "      <td>243275.15</td>\n",
       "    </tr>\n",
       "    <tr>\n",
       "      <th>4</th>\n",
       "      <td>audi</td>\n",
       "      <td>a4</td>\n",
       "      <td>dharmapuri</td>\n",
       "      <td>99532</td>\n",
       "      <td>5</td>\n",
       "      <td>7304.606</td>\n",
       "      <td>60.879889</td>\n",
       "      <td>36523.03</td>\n",
       "    </tr>\n",
       "  </tbody>\n",
       "</table>\n",
       "</div>"
      ],
      "text/plain": [
       "   Make Model         City Customer No.  Invoice No  Total_Expense  \\\n",
       "0  audi    a4   ahmednagar       129425           1       1921.400   \n",
       "1  audi    a4    bengaluru       197826           1          0.000   \n",
       "2  audi    a4  bhubaneswar       259799           1        330.500   \n",
       "3  audi    a4      chennai       251998           1     243275.150   \n",
       "4  audi    a4   dharmapuri        99532           5       7304.606   \n",
       "\n",
       "   Job_duration(in hrs)        LTV  \n",
       "0            361.850833    1921.40  \n",
       "1            839.515278       0.00  \n",
       "2              0.056944     330.50  \n",
       "3            359.626667  243275.15  \n",
       "4             60.879889   36523.03  "
      ]
     },
     "execution_count": 12,
     "metadata": {},
     "output_type": "execute_result"
    }
   ],
   "source": [
    "ltv_make_model_r=customer_freq.copy()\n",
    "ltv_make_model_r[\"LTV\"] = ltv_make_model_r[\"Invoice No\"] * ltv_make_model_r[\"Total_Expense\"]\n",
    "ltv_make_model_r.head()"
   ]
  },
  {
   "cell_type": "code",
   "execution_count": 13,
   "metadata": {},
   "outputs": [
    {
     "data": {
      "text/plain": [
       "Customer No.\n",
       "412       2830476.96\n",
       "164806    1896690.03\n",
       "151790    1454951.78\n",
       "84810     1435610.96\n",
       "172936    1364691.27\n",
       "             ...    \n",
       "250878          0.00\n",
       "240607          0.00\n",
       "204635          0.00\n",
       "240602          0.00\n",
       "190909          0.00\n",
       "Name: LTV, Length: 126804, dtype: float64"
      ]
     },
     "execution_count": 13,
     "metadata": {},
     "output_type": "execute_result"
    }
   ],
   "source": [
    "ltv_make_model_r.groupby([\"Customer No.\"])[\"LTV\"].max().sort_values(ascending=False)"
   ]
  },
  {
   "cell_type": "markdown",
   "metadata": {},
   "source": [
    "#  # Filtering customer having LTV/Total revenue > 0\n"
   ]
  },
  {
   "cell_type": "code",
   "execution_count": 14,
   "metadata": {},
   "outputs": [],
   "source": [
    "ltv_make_model_r = ltv_make_model_r[ltv_make_model_r['LTV'] > 0]"
   ]
  },
  {
   "cell_type": "code",
   "execution_count": 15,
   "metadata": {},
   "outputs": [
    {
     "data": {
      "text/plain": [
       "(120884, 8)"
      ]
     },
     "execution_count": 15,
     "metadata": {},
     "output_type": "execute_result"
    }
   ],
   "source": [
    "ltv_make_model_r.shape"
   ]
  },
  {
   "cell_type": "markdown",
   "metadata": {},
   "source": [
    "### Quantile based analysis of LTV to decide threshold"
   ]
  },
  {
   "cell_type": "code",
   "execution_count": 16,
   "metadata": {},
   "outputs": [
    {
     "name": "stdout",
     "output_type": "stream",
     "text": [
      "0.05 quantile :- 101.0\n",
      "0.25 quantile :- 578.5825000000001\n",
      "0.50 quantile :- 3523.33\n",
      "0.75 quantile :- 10483.044999999998\n",
      "0.95 quantile :- 45400.076999999954\n",
      "minimum LTV :- 0.01\n",
      "maximum LTV :- 2830476.9600000004\n",
      "mean LTV :- 11330.93831193581\n"
     ]
    }
   ],
   "source": [
    "print(\"0.05 quantile :-\",ltv_make_model_r['LTV'].quantile(0.05))\n",
    "print(\"0.25 quantile :-\",ltv_make_model_r['LTV'].quantile(0.25))\n",
    "print(\"0.50 quantile :-\",ltv_make_model_r['LTV'].quantile(0.50))\n",
    "print(\"0.75 quantile :-\",ltv_make_model_r['LTV'].quantile(0.75))\n",
    "print(\"0.95 quantile :-\",ltv_make_model_r['LTV'].quantile(0.95))\n",
    "print(\"minimum LTV :-\",ltv_make_model_r['LTV'].min())\n",
    "print(\"maximum LTV :-\",ltv_make_model_r['LTV'].max())\n",
    "print(\"mean LTV :-\",ltv_make_model_r['LTV'].mean())"
   ]
  },
  {
   "cell_type": "code",
   "execution_count": 17,
   "metadata": {},
   "outputs": [
    {
     "name": "stdout",
     "output_type": "stream",
     "text": [
      "(68627, 8)\n",
      "(28105, 8)\n",
      "(24152, 8)\n"
     ]
    }
   ],
   "source": [
    "print(ltv_make_model_r[ltv_make_model_r[\"LTV\"]<=4743.35].shape)\n",
    "print(ltv_make_model_r[(ltv_make_model_r[\"LTV\"]>4743.35)&(ltv_make_model_r[\"LTV\"]<=13643.22)].shape)\n",
    "print(ltv_make_model_r[ltv_make_model_r[\"LTV\"]>13643.22].shape)"
   ]
  },
  {
   "cell_type": "code",
   "execution_count": 18,
   "metadata": {},
   "outputs": [],
   "source": [
    "bins=[-1,4743.35,13643.22,3218304.520000001]\n",
    "labels=[\"Low\",\"Medium\",\"High\"]\n",
    "ltv_make_model_r[\"LTV Category\"]=pd.cut(ltv_make_model_r[\"LTV\"], bins=bins, labels=labels)"
   ]
  },
  {
   "cell_type": "code",
   "execution_count": 19,
   "metadata": {},
   "outputs": [
    {
     "data": {
      "text/html": [
       "<div>\n",
       "<style scoped>\n",
       "    .dataframe tbody tr th:only-of-type {\n",
       "        vertical-align: middle;\n",
       "    }\n",
       "\n",
       "    .dataframe tbody tr th {\n",
       "        vertical-align: top;\n",
       "    }\n",
       "\n",
       "    .dataframe thead th {\n",
       "        text-align: right;\n",
       "    }\n",
       "</style>\n",
       "<table border=\"1\" class=\"dataframe\">\n",
       "  <thead>\n",
       "    <tr style=\"text-align: right;\">\n",
       "      <th></th>\n",
       "      <th>Make</th>\n",
       "      <th>Model</th>\n",
       "      <th>City</th>\n",
       "      <th>Customer No.</th>\n",
       "      <th>Invoice No</th>\n",
       "      <th>Total_Expense</th>\n",
       "      <th>Job_duration(in hrs)</th>\n",
       "      <th>LTV</th>\n",
       "      <th>LTV Category</th>\n",
       "    </tr>\n",
       "  </thead>\n",
       "  <tbody>\n",
       "    <tr>\n",
       "      <th>0</th>\n",
       "      <td>audi</td>\n",
       "      <td>a4</td>\n",
       "      <td>ahmednagar</td>\n",
       "      <td>129425</td>\n",
       "      <td>1</td>\n",
       "      <td>1921.400</td>\n",
       "      <td>361.850833</td>\n",
       "      <td>1921.40</td>\n",
       "      <td>Low</td>\n",
       "    </tr>\n",
       "    <tr>\n",
       "      <th>2</th>\n",
       "      <td>audi</td>\n",
       "      <td>a4</td>\n",
       "      <td>bhubaneswar</td>\n",
       "      <td>259799</td>\n",
       "      <td>1</td>\n",
       "      <td>330.500</td>\n",
       "      <td>0.056944</td>\n",
       "      <td>330.50</td>\n",
       "      <td>Low</td>\n",
       "    </tr>\n",
       "    <tr>\n",
       "      <th>3</th>\n",
       "      <td>audi</td>\n",
       "      <td>a4</td>\n",
       "      <td>chennai</td>\n",
       "      <td>251998</td>\n",
       "      <td>1</td>\n",
       "      <td>243275.150</td>\n",
       "      <td>359.626667</td>\n",
       "      <td>243275.15</td>\n",
       "      <td>High</td>\n",
       "    </tr>\n",
       "    <tr>\n",
       "      <th>4</th>\n",
       "      <td>audi</td>\n",
       "      <td>a4</td>\n",
       "      <td>dharmapuri</td>\n",
       "      <td>99532</td>\n",
       "      <td>5</td>\n",
       "      <td>7304.606</td>\n",
       "      <td>60.879889</td>\n",
       "      <td>36523.03</td>\n",
       "      <td>High</td>\n",
       "    </tr>\n",
       "    <tr>\n",
       "      <th>5</th>\n",
       "      <td>audi</td>\n",
       "      <td>a4</td>\n",
       "      <td>ghazibad</td>\n",
       "      <td>141369</td>\n",
       "      <td>1</td>\n",
       "      <td>497.780</td>\n",
       "      <td>1.346111</td>\n",
       "      <td>497.78</td>\n",
       "      <td>Low</td>\n",
       "    </tr>\n",
       "    <tr>\n",
       "      <th>...</th>\n",
       "      <td>...</td>\n",
       "      <td>...</td>\n",
       "      <td>...</td>\n",
       "      <td>...</td>\n",
       "      <td>...</td>\n",
       "      <td>...</td>\n",
       "      <td>...</td>\n",
       "      <td>...</td>\n",
       "      <td>...</td>\n",
       "    </tr>\n",
       "    <tr>\n",
       "      <th>129521</th>\n",
       "      <td>volvo</td>\n",
       "      <td>volvo xc90</td>\n",
       "      <td>indore</td>\n",
       "      <td>256290</td>\n",
       "      <td>1</td>\n",
       "      <td>1480.000</td>\n",
       "      <td>6.383056</td>\n",
       "      <td>1480.00</td>\n",
       "      <td>Low</td>\n",
       "    </tr>\n",
       "    <tr>\n",
       "      <th>129522</th>\n",
       "      <td>volvo</td>\n",
       "      <td>volvo xc90</td>\n",
       "      <td>madurai</td>\n",
       "      <td>233657</td>\n",
       "      <td>1</td>\n",
       "      <td>1391.340</td>\n",
       "      <td>71.085833</td>\n",
       "      <td>1391.34</td>\n",
       "      <td>Low</td>\n",
       "    </tr>\n",
       "    <tr>\n",
       "      <th>129523</th>\n",
       "      <td>volvo</td>\n",
       "      <td>volvo xc90</td>\n",
       "      <td>palani</td>\n",
       "      <td>241519</td>\n",
       "      <td>1</td>\n",
       "      <td>11088.640</td>\n",
       "      <td>1.053333</td>\n",
       "      <td>11088.64</td>\n",
       "      <td>Medium</td>\n",
       "    </tr>\n",
       "    <tr>\n",
       "      <th>129524</th>\n",
       "      <td>volvo</td>\n",
       "      <td>volvo xc90</td>\n",
       "      <td>thane</td>\n",
       "      <td>148692</td>\n",
       "      <td>1</td>\n",
       "      <td>5243.440</td>\n",
       "      <td>0.184444</td>\n",
       "      <td>5243.44</td>\n",
       "      <td>Medium</td>\n",
       "    </tr>\n",
       "    <tr>\n",
       "      <th>129525</th>\n",
       "      <td>volvo</td>\n",
       "      <td>volvo xc90</td>\n",
       "      <td>thane</td>\n",
       "      <td>211959</td>\n",
       "      <td>1</td>\n",
       "      <td>12159.700</td>\n",
       "      <td>31.578889</td>\n",
       "      <td>12159.70</td>\n",
       "      <td>Medium</td>\n",
       "    </tr>\n",
       "  </tbody>\n",
       "</table>\n",
       "<p>120884 rows × 9 columns</p>\n",
       "</div>"
      ],
      "text/plain": [
       "         Make       Model         City Customer No.  Invoice No  \\\n",
       "0        audi          a4   ahmednagar       129425           1   \n",
       "2        audi          a4  bhubaneswar       259799           1   \n",
       "3        audi          a4      chennai       251998           1   \n",
       "4        audi          a4   dharmapuri        99532           5   \n",
       "5        audi          a4     ghazibad       141369           1   \n",
       "...       ...         ...          ...          ...         ...   \n",
       "129521  volvo  volvo xc90       indore       256290           1   \n",
       "129522  volvo  volvo xc90      madurai       233657           1   \n",
       "129523  volvo  volvo xc90       palani       241519           1   \n",
       "129524  volvo  volvo xc90        thane       148692           1   \n",
       "129525  volvo  volvo xc90        thane       211959           1   \n",
       "\n",
       "        Total_Expense  Job_duration(in hrs)        LTV LTV Category  \n",
       "0            1921.400            361.850833    1921.40          Low  \n",
       "2             330.500              0.056944     330.50          Low  \n",
       "3          243275.150            359.626667  243275.15         High  \n",
       "4            7304.606             60.879889   36523.03         High  \n",
       "5             497.780              1.346111     497.78          Low  \n",
       "...               ...                   ...        ...          ...  \n",
       "129521       1480.000              6.383056    1480.00          Low  \n",
       "129522       1391.340             71.085833    1391.34          Low  \n",
       "129523      11088.640              1.053333   11088.64       Medium  \n",
       "129524       5243.440              0.184444    5243.44       Medium  \n",
       "129525      12159.700             31.578889   12159.70       Medium  \n",
       "\n",
       "[120884 rows x 9 columns]"
      ]
     },
     "execution_count": 19,
     "metadata": {},
     "output_type": "execute_result"
    }
   ],
   "source": [
    "ltv_make_model_r"
   ]
  },
  {
   "cell_type": "code",
   "execution_count": 20,
   "metadata": {},
   "outputs": [
    {
     "data": {
      "text/plain": [
       "Low       68627\n",
       "Medium    28105\n",
       "High      24152\n",
       "Name: LTV Category, dtype: int64"
      ]
     },
     "execution_count": 20,
     "metadata": {},
     "output_type": "execute_result"
    }
   ],
   "source": [
    "ltv_make_model_r[\"LTV Category\"].value_counts(dropna=False)"
   ]
  },
  {
   "cell_type": "code",
   "execution_count": 21,
   "metadata": {},
   "outputs": [
    {
     "data": {
      "text/plain": [
       "CategoricalDtype(categories=['Low', 'Medium', 'High'], ordered=True)"
      ]
     },
     "execution_count": 21,
     "metadata": {},
     "output_type": "execute_result"
    }
   ],
   "source": [
    "ltv_make_model_r[\"LTV Category\"].dtypes"
   ]
  },
  {
   "cell_type": "code",
   "execution_count": 22,
   "metadata": {},
   "outputs": [
    {
     "data": {
      "text/plain": [
       "<matplotlib.axes._subplots.AxesSubplot at 0x24e2ea00188>"
      ]
     },
     "execution_count": 22,
     "metadata": {},
     "output_type": "execute_result"
    },
    {
     "data": {
      "image/png": "[encoded data removed]",
      "text/plain": [
       "<Figure size 432x288 with 1 Axes>"
      ]
     },
     "metadata": {
      "needs_background": "light"
     },
     "output_type": "display_data"
    }
   ],
   "source": [
    "ltv_make_model_r.groupby('LTV Category').size().plot(kind='bar')"
   ]
  },
  {
   "cell_type": "code",
   "execution_count": 23,
   "metadata": {},
   "outputs": [
    {
     "data": {
      "application/vnd.plotly.v1+json": {
       "config": {
        "linkText": "Export to plotly.com",
        "plotlyServerURL": "https://plotly.com",
        "showLink": false
       },
       "data": [
        {
         "type": "bar",
         "x": [
          "Low",
          "Medium",
          "High"
         ],
         "y": [
          68627,
          28105,
          24152
         ]
        }
       ],
       "layout": {
        "font": {
         "size": 14
        },
        "height": 500,
        "template": {
         "data": {
          "bar": [
           {
            "error_x": {
             "color": "#2a3f5f"
            },
            "error_y": {
             "color": "#2a3f5f"
            },
            "marker": {
             "line": {
              "color": "#E5ECF6",
              "width": 0.5
             }
            },
            "type": "bar"
           }
          ],
          "barpolar": [
           {
            "marker": {
             "line": {
              "color": "#E5ECF6",
              "width": 0.5
             }
            },
            "type": "barpolar"
           }
          ],
          "carpet": [
           {
            "aaxis": {
             "endlinecolor": "#2a3f5f",
             "gridcolor": "white",
             "linecolor": "white",
             "minorgridcolor": "white",
             "startlinecolor": "#2a3f5f"
            },
            "baxis": {
             "endlinecolor": "#2a3f5f",
             "gridcolor": "white",
             "linecolor": "white",
             "minorgridcolor": "white",
             "startlinecolor": "#2a3f5f"
            },
            "type": "carpet"
           }
          ],
          "choropleth": [
           {
            "colorbar": {
             "outlinewidth": 0,
             "ticks": ""
            },
            "type": "choropleth"
           }
          ],
          "contour": [
           {
            "colorbar": {
             "outlinewidth": 0,
             "ticks": ""
            },
            "colorscale": [
             [
              0,
              "#0d0887"
             ],
             [
              0.1111111111111111,
              "#46039f"
             ],
             [
              0.2222222222222222,
              "#7201a8"
             ],
             [
              0.3333333333333333,
              "#9c179e"
             ],
             [
              0.4444444444444444,
              "#bd3786"
             ],
             [
              0.5555555555555556,
              "#d8576b"
             ],
             [
              0.6666666666666666,
              "#ed7953"
             ],
             [
              0.7777777777777778,
              "#fb9f3a"
             ],
             [
              0.8888888888888888,
              "#fdca26"
             ],
             [
              1,
              "#f0f921"
             ]
            ],
            "type": "contour"
           }
          ],
          "contourcarpet": [
           {
            "colorbar": {
             "outlinewidth": 0,
             "ticks": ""
            },
            "type": "contourcarpet"
           }
          ],
          "heatmap": [
           {
            "colorbar": {
             "outlinewidth": 0,
             "ticks": ""
            },
            "colorscale": [
             [
              0,
              "#0d0887"
             ],
             [
              0.1111111111111111,
              "#46039f"
             ],
             [
              0.2222222222222222,
              "#7201a8"
             ],
             [
              0.3333333333333333,
              "#9c179e"
             ],
             [
              0.4444444444444444,
              "#bd3786"
             ],
             [
              0.5555555555555556,
              "#d8576b"
             ],
             [
              0.6666666666666666,
              "#ed7953"
             ],
             [
              0.7777777777777778,
              "#fb9f3a"
             ],
             [
              0.8888888888888888,
              "#fdca26"
             ],
             [
              1,
              "#f0f921"
             ]
            ],
            "type": "heatmap"
           }
          ],
          "heatmapgl": [
           {
            "colorbar": {
             "outlinewidth": 0,
             "ticks": ""
            },
            "colorscale": [
             [
              0,
              "#0d0887"
             ],
             [
              0.1111111111111111,
              "#46039f"
             ],
             [
              0.2222222222222222,
              "#7201a8"
             ],
             [
              0.3333333333333333,
              "#9c179e"
             ],
             [
              0.4444444444444444,
              "#bd3786"
             ],
             [
              0.5555555555555556,
              "#d8576b"
             ],
             [
              0.6666666666666666,
              "#ed7953"
             ],
             [
              0.7777777777777778,
              "#fb9f3a"
             ],
             [
              0.8888888888888888,
              "#fdca26"
             ],
             [
              1,
              "#f0f921"
             ]
            ],
            "type": "heatmapgl"
           }
          ],
          "histogram": [
           {
            "marker": {
             "colorbar": {
              "outlinewidth": 0,
              "ticks": ""
             }
            },
            "type": "histogram"
           }
          ],
          "histogram2d": [
           {
            "colorbar": {
             "outlinewidth": 0,
             "ticks": ""
            },
            "colorscale": [
             [
              0,
              "#0d0887"
             ],
             [
              0.1111111111111111,
              "#46039f"
             ],
             [
              0.2222222222222222,
              "#7201a8"
             ],
             [
              0.3333333333333333,
              "#9c179e"
             ],
             [
              0.4444444444444444,
              "#bd3786"
             ],
             [
              0.5555555555555556,
              "#d8576b"
             ],
             [
              0.6666666666666666,
              "#ed7953"
             ],
             [
              0.7777777777777778,
              "#fb9f3a"
             ],
             [
              0.8888888888888888,
              "#fdca26"
             ],
             [
              1,
              "#f0f921"
             ]
            ],
            "type": "histogram2d"
           }
          ],
          "histogram2dcontour": [
           {
            "colorbar": {
             "outlinewidth": 0,
             "ticks": ""
            },
            "colorscale": [
             [
              0,
              "#0d0887"
             ],
             [
              0.1111111111111111,
              "#46039f"
             ],
             [
              0.2222222222222222,
              "#7201a8"
             ],
             [
              0.3333333333333333,
              "#9c179e"
             ],
             [
              0.4444444444444444,
              "#bd3786"
             ],
             [
              0.5555555555555556,
              "#d8576b"
             ],
             [
              0.6666666666666666,
              "#ed7953"
             ],
             [
              0.7777777777777778,
              "#fb9f3a"
             ],
             [
              0.8888888888888888,
              "#fdca26"
             ],
             [
              1,
              "#f0f921"
             ]
            ],
            "type": "histogram2dcontour"
           }
          ],
          "mesh3d": [
           {
            "colorbar": {
             "outlinewidth": 0,
             "ticks": ""
            },
            "type": "mesh3d"
           }
          ],
          "parcoords": [
           {
            "line": {
             "colorbar": {
              "outlinewidth": 0,
              "ticks": ""
             }
            },
            "type": "parcoords"
           }
          ],
          "pie": [
           {
            "automargin": true,
            "type": "pie"
           }
          ],
          "scatter": [
           {
            "marker": {
             "colorbar": {
              "outlinewidth": 0,
              "ticks": ""
             }
            },
            "type": "scatter"
           }
          ],
          "scatter3d": [
           {
            "line": {
             "colorbar": {
              "outlinewidth": 0,
              "ticks": ""
             }
            },
            "marker": {
             "colorbar": {
              "outlinewidth": 0,
              "ticks": ""
             }
            },
            "type": "scatter3d"
           }
          ],
          "scattercarpet": [
           {
            "marker": {
             "colorbar": {
              "outlinewidth": 0,
              "ticks": ""
             }
            },
            "type": "scattercarpet"
           }
          ],
          "scattergeo": [
           {
            "marker": {
             "colorbar": {
              "outlinewidth": 0,
              "ticks": ""
             }
            },
            "type": "scattergeo"
           }
          ],
          "scattergl": [
           {
            "marker": {
             "colorbar": {
              "outlinewidth": 0,
              "ticks": ""
             }
            },
            "type": "scattergl"
           }
          ],
          "scattermapbox": [
           {
            "marker": {
             "colorbar": {
              "outlinewidth": 0,
              "ticks": ""
             }
            },
            "type": "scattermapbox"
           }
          ],
          "scatterpolar": [
           {
            "marker": {
             "colorbar": {
              "outlinewidth": 0,
              "ticks": ""
             }
            },
            "type": "scatterpolar"
           }
          ],
          "scatterpolargl": [
           {
            "marker": {
             "colorbar": {
              "outlinewidth": 0,
              "ticks": ""
             }
            },
            "type": "scatterpolargl"
           }
          ],
          "scatterternary": [
           {
            "marker": {
             "colorbar": {
              "outlinewidth": 0,
              "ticks": ""
             }
            },
            "type": "scatterternary"
           }
          ],
          "surface": [
           {
            "colorbar": {
             "outlinewidth": 0,
             "ticks": ""
            },
            "colorscale": [
             [
              0,
              "#0d0887"
             ],
             [
              0.1111111111111111,
              "#46039f"
             ],
             [
              0.2222222222222222,
              "#7201a8"
             ],
             [
              0.3333333333333333,
              "#9c179e"
             ],
             [
              0.4444444444444444,
              "#bd3786"
             ],
             [
              0.5555555555555556,
              "#d8576b"
             ],
             [
              0.6666666666666666,
              "#ed7953"
             ],
             [
              0.7777777777777778,
              "#fb9f3a"
             ],
             [
              0.8888888888888888,
              "#fdca26"
             ],
             [
              1,
              "#f0f921"
             ]
            ],
            "type": "surface"
           }
          ],
          "table": [
           {
            "cells": {
             "fill": {
              "color": "#EBF0F8"
             },
             "line": {
              "color": "white"
             }
            },
            "header": {
             "fill": {
              "color": "#C8D4E3"
             },
             "line": {
              "color": "white"
             }
            },
            "type": "table"
           }
          ]
         },
         "layout": {
          "annotationdefaults": {
           "arrowcolor": "#2a3f5f",
           "arrowhead": 0,
           "arrowwidth": 1
          },
          "coloraxis": {
           "colorbar": {
            "outlinewidth": 0,
            "ticks": ""
           }
          },
          "colorscale": {
           "diverging": [
            [
             0,
             "#8e0152"
            ],
            [
             0.1,
             "#c51b7d"
            ],
            [
             0.2,
             "#de77ae"
            ],
            [
             0.3,
             "#f1b6da"
            ],
            [
             0.4,
             "#fde0ef"
            ],
            [
             0.5,
             "#f7f7f7"
            ],
            [
             0.6,
             "#e6f5d0"
            ],
            [
             0.7,
             "#b8e186"
            ],
            [
             0.8,
             "#7fbc41"
            ],
            [
             0.9,
             "#4d9221"
            ],
            [
             1,
             "#276419"
            ]
           ],
           "sequential": [
            [
             0,
             "#0d0887"
            ],
            [
             0.1111111111111111,
             "#46039f"
            ],
            [
             0.2222222222222222,
             "#7201a8"
            ],
            [
             0.3333333333333333,
             "#9c179e"
            ],
            [
             0.4444444444444444,
             "#bd3786"
            ],
            [
             0.5555555555555556,
             "#d8576b"
            ],
            [
             0.6666666666666666,
             "#ed7953"
            ],
            [
             0.7777777777777778,
             "#fb9f3a"
            ],
            [
             0.8888888888888888,
             "#fdca26"
            ],
            [
             1,
             "#f0f921"
            ]
           ],
           "sequentialminus": [
            [
             0,
             "#0d0887"
            ],
            [
             0.1111111111111111,
             "#46039f"
            ],
            [
             0.2222222222222222,
             "#7201a8"
            ],
            [
             0.3333333333333333,
             "#9c179e"
            ],
            [
             0.4444444444444444,
             "#bd3786"
            ],
            [
             0.5555555555555556,
             "#d8576b"
            ],
            [
             0.6666666666666666,
             "#ed7953"
            ],
            [
             0.7777777777777778,
             "#fb9f3a"
            ],
            [
             0.8888888888888888,
             "#fdca26"
            ],
            [
             1,
             "#f0f921"
            ]
           ]
          },
          "colorway": [
           "#636efa",
           "#EF553B",
           "#00cc96",
           "#ab63fa",
           "#FFA15A",
           "#19d3f3",
           "#FF6692",
           "#B6E880",
           "#FF97FF",
           "#FECB52"
          ],
          "font": {
           "color": "#2a3f5f"
          },
          "geo": {
           "bgcolor": "white",
           "lakecolor": "white",
           "landcolor": "#E5ECF6",
           "showlakes": true,
           "showland": true,
           "subunitcolor": "white"
          },
          "hoverlabel": {
           "align": "left"
          },
          "hovermode": "closest",
          "mapbox": {
           "style": "light"
          },
          "paper_bgcolor": "white",
          "plot_bgcolor": "#E5ECF6",
          "polar": {
           "angularaxis": {
            "gridcolor": "white",
            "linecolor": "white",
            "ticks": ""
           },
           "bgcolor": "#E5ECF6",
           "radialaxis": {
            "gridcolor": "white",
            "linecolor": "white",
            "ticks": ""
           }
          },
          "scene": {
           "xaxis": {
            "backgroundcolor": "#E5ECF6",
            "gridcolor": "white",
            "gridwidth": 2,
            "linecolor": "white",
            "showbackground": true,
            "ticks": "",
            "zerolinecolor": "white"
           },
           "yaxis": {
            "backgroundcolor": "#E5ECF6",
            "gridcolor": "white",
            "gridwidth": 2,
            "linecolor": "white",
            "showbackground": true,
            "ticks": "",
            "zerolinecolor": "white"
           },
           "zaxis": {
            "backgroundcolor": "#E5ECF6",
            "gridcolor": "white",
            "gridwidth": 2,
            "linecolor": "white",
            "showbackground": true,
            "ticks": "",
            "zerolinecolor": "white"
           }
          },
          "shapedefaults": {
           "line": {
            "color": "#2a3f5f"
           }
          },
          "ternary": {
           "aaxis": {
            "gridcolor": "white",
            "linecolor": "white",
            "ticks": ""
           },
           "baxis": {
            "gridcolor": "white",
            "linecolor": "white",
            "ticks": ""
           },
           "bgcolor": "#E5ECF6",
           "caxis": {
            "gridcolor": "white",
            "linecolor": "white",
            "ticks": ""
           }
          },
          "title": {
           "x": 0.05
          },
          "xaxis": {
           "automargin": true,
           "gridcolor": "white",
           "linecolor": "white",
           "ticks": "",
           "title": {
            "standoff": 15
           },
           "zerolinecolor": "white",
           "zerolinewidth": 2
          },
          "yaxis": {
           "automargin": true,
           "gridcolor": "white",
           "linecolor": "white",
           "ticks": "",
           "title": {
            "standoff": 15
           },
           "zerolinecolor": "white",
           "zerolinewidth": 2
          }
         }
        },
        "title": {
         "text": "Customer LTV Catogarization",
         "x": 0.5
        },
        "width": 800
       }
      },
      "text/html": [
       "<div>\n",
       "        \n",
       "        \n",
       "            <div id=\"7a82ea46-c430-4936-b867-0b4d6eb7943f\" class=\"plotly-graph-div\" style=\"height:500px; width:800px;\"></div>\n",
       "            <script type=\"text/javascript\">\n",
       "                require([\"plotly\"], function(Plotly) {\n",
       "                    window.PLOTLYENV=window.PLOTLYENV || {};\n",
       "                    \n",
       "                if (document.getElementById(\"7a82ea46-c430-4936-b867-0b4d6eb7943f\")) {\n",
       "                    Plotly.newPlot(\n",
       "                        '7a82ea46-c430-4936-b867-0b4d6eb7943f',\n",
       "                        [{\"type\": \"bar\", \"x\": [\"Low\", \"Medium\", \"High\"], \"y\": [68627, 28105, 24152]}],\n",
       "                        {\"font\": {\"size\": 14}, \"height\": 500, \"template\": {\"data\": {\"bar\": [{\"error_x\": {\"color\": \"#2a3f5f\"}, \"error_y\": {\"color\": \"#2a3f5f\"}, \"marker\": {\"line\": {\"color\": \"#E5ECF6\", \"width\": 0.5}}, \"type\": \"bar\"}], \"barpolar\": [{\"marker\": {\"line\": {\"color\": \"#E5ECF6\", \"width\": 0.5}}, \"type\": \"barpolar\"}], \"carpet\": [{\"aaxis\": {\"endlinecolor\": \"#2a3f5f\", \"gridcolor\": \"white\", \"linecolor\": \"white\", \"minorgridcolor\": \"white\", \"startlinecolor\": \"#2a3f5f\"}, \"baxis\": {\"endlinecolor\": \"#2a3f5f\", \"gridcolor\": \"white\", \"linecolor\": \"white\", \"minorgridcolor\": \"white\", \"startlinecolor\": \"#2a3f5f\"}, \"type\": \"carpet\"}], \"choropleth\": [{\"colorbar\": {\"outlinewidth\": 0, \"ticks\": \"\"}, \"type\": \"choropleth\"}], \"contour\": [{\"colorbar\": {\"outlinewidth\": 0, \"ticks\": \"\"}, \"colorscale\": [[0.0, \"#0d0887\"], [0.1111111111111111, \"#46039f\"], [0.2222222222222222, \"#7201a8\"], [0.3333333333333333, \"#9c179e\"], [0.4444444444444444, \"#bd3786\"], [0.5555555555555556, \"#d8576b\"], [0.6666666666666666, \"#ed7953\"], [0.7777777777777778, \"#fb9f3a\"], [0.8888888888888888, \"#fdca26\"], [1.0, \"#f0f921\"]], \"type\": \"contour\"}], \"contourcarpet\": [{\"colorbar\": {\"outlinewidth\": 0, \"ticks\": \"\"}, \"type\": \"contourcarpet\"}], \"heatmap\": [{\"colorbar\": {\"outlinewidth\": 0, \"ticks\": \"\"}, \"colorscale\": [[0.0, \"#0d0887\"], [0.1111111111111111, \"#46039f\"], [0.2222222222222222, \"#7201a8\"], [0.3333333333333333, \"#9c179e\"], [0.4444444444444444, \"#bd3786\"], [0.5555555555555556, \"#d8576b\"], [0.6666666666666666, \"#ed7953\"], [0.7777777777777778, \"#fb9f3a\"], [0.8888888888888888, \"#fdca26\"], [1.0, \"#f0f921\"]], \"type\": \"heatmap\"}], \"heatmapgl\": [{\"colorbar\": {\"outlinewidth\": 0, \"ticks\": \"\"}, \"colorscale\": [[0.0, \"#0d0887\"], [0.1111111111111111, \"#46039f\"], [0.2222222222222222, \"#7201a8\"], [0.3333333333333333, \"#9c179e\"], [0.4444444444444444, \"#bd3786\"], [0.5555555555555556, \"#d8576b\"], [0.6666666666666666, \"#ed7953\"], [0.7777777777777778, \"#fb9f3a\"], [0.8888888888888888, \"#fdca26\"], [1.0, \"#f0f921\"]], \"type\": \"heatmapgl\"}], \"histogram\": [{\"marker\": {\"colorbar\": {\"outlinewidth\": 0, \"ticks\": \"\"}}, \"type\": \"histogram\"}], \"histogram2d\": [{\"colorbar\": {\"outlinewidth\": 0, \"ticks\": \"\"}, \"colorscale\": [[0.0, \"#0d0887\"], [0.1111111111111111, \"#46039f\"], [0.2222222222222222, \"#7201a8\"], [0.3333333333333333, \"#9c179e\"], [0.4444444444444444, \"#bd3786\"], [0.5555555555555556, \"#d8576b\"], [0.6666666666666666, \"#ed7953\"], [0.7777777777777778, \"#fb9f3a\"], [0.8888888888888888, \"#fdca26\"], [1.0, \"#f0f921\"]], \"type\": \"histogram2d\"}], \"histogram2dcontour\": [{\"colorbar\": {\"outlinewidth\": 0, \"ticks\": \"\"}, \"colorscale\": [[0.0, \"#0d0887\"], [0.1111111111111111, \"#46039f\"], [0.2222222222222222, \"#7201a8\"], [0.3333333333333333, \"#9c179e\"], [0.4444444444444444, \"#bd3786\"], [0.5555555555555556, \"#d8576b\"], [0.6666666666666666, \"#ed7953\"], [0.7777777777777778, \"#fb9f3a\"], [0.8888888888888888, \"#fdca26\"], [1.0, \"#f0f921\"]], \"type\": \"histogram2dcontour\"}], \"mesh3d\": [{\"colorbar\": {\"outlinewidth\": 0, \"ticks\": \"\"}, \"type\": \"mesh3d\"}], \"parcoords\": [{\"line\": {\"colorbar\": {\"outlinewidth\": 0, \"ticks\": \"\"}}, \"type\": \"parcoords\"}], \"pie\": [{\"automargin\": true, \"type\": \"pie\"}], \"scatter\": [{\"marker\": {\"colorbar\": {\"outlinewidth\": 0, \"ticks\": \"\"}}, \"type\": \"scatter\"}], \"scatter3d\": [{\"line\": {\"colorbar\": {\"outlinewidth\": 0, \"ticks\": \"\"}}, \"marker\": {\"colorbar\": {\"outlinewidth\": 0, \"ticks\": \"\"}}, \"type\": \"scatter3d\"}], \"scattercarpet\": [{\"marker\": {\"colorbar\": {\"outlinewidth\": 0, \"ticks\": \"\"}}, \"type\": \"scattercarpet\"}], \"scattergeo\": [{\"marker\": {\"colorbar\": {\"outlinewidth\": 0, \"ticks\": \"\"}}, \"type\": \"scattergeo\"}], \"scattergl\": [{\"marker\": {\"colorbar\": {\"outlinewidth\": 0, \"ticks\": \"\"}}, \"type\": \"scattergl\"}], \"scattermapbox\": [{\"marker\": {\"colorbar\": {\"outlinewidth\": 0, \"ticks\": \"\"}}, \"type\": \"scattermapbox\"}], \"scatterpolar\": [{\"marker\": {\"colorbar\": {\"outlinewidth\": 0, \"ticks\": \"\"}}, \"type\": \"scatterpolar\"}], \"scatterpolargl\": [{\"marker\": {\"colorbar\": {\"outlinewidth\": 0, \"ticks\": \"\"}}, \"type\": \"scatterpolargl\"}], \"scatterternary\": [{\"marker\": {\"colorbar\": {\"outlinewidth\": 0, \"ticks\": \"\"}}, \"type\": \"scatterternary\"}], \"surface\": [{\"colorbar\": {\"outlinewidth\": 0, \"ticks\": \"\"}, \"colorscale\": [[0.0, \"#0d0887\"], [0.1111111111111111, \"#46039f\"], [0.2222222222222222, \"#7201a8\"], [0.3333333333333333, \"#9c179e\"], [0.4444444444444444, \"#bd3786\"], [0.5555555555555556, \"#d8576b\"], [0.6666666666666666, \"#ed7953\"], [0.7777777777777778, \"#fb9f3a\"], [0.8888888888888888, \"#fdca26\"], [1.0, \"#f0f921\"]], \"type\": \"surface\"}], \"table\": [{\"cells\": {\"fill\": {\"color\": \"#EBF0F8\"}, \"line\": {\"color\": \"white\"}}, \"header\": {\"fill\": {\"color\": \"#C8D4E3\"}, \"line\": {\"color\": \"white\"}}, \"type\": \"table\"}]}, \"layout\": {\"annotationdefaults\": {\"arrowcolor\": \"#2a3f5f\", \"arrowhead\": 0, \"arrowwidth\": 1}, \"coloraxis\": {\"colorbar\": {\"outlinewidth\": 0, \"ticks\": \"\"}}, \"colorscale\": {\"diverging\": [[0, \"#8e0152\"], [0.1, \"#c51b7d\"], [0.2, \"#de77ae\"], [0.3, \"#f1b6da\"], [0.4, \"#fde0ef\"], [0.5, \"#f7f7f7\"], [0.6, \"#e6f5d0\"], [0.7, \"#b8e186\"], [0.8, \"#7fbc41\"], [0.9, \"#4d9221\"], [1, \"#276419\"]], \"sequential\": [[0.0, \"#0d0887\"], [0.1111111111111111, \"#46039f\"], [0.2222222222222222, \"#7201a8\"], [0.3333333333333333, \"#9c179e\"], [0.4444444444444444, \"#bd3786\"], [0.5555555555555556, \"#d8576b\"], [0.6666666666666666, \"#ed7953\"], [0.7777777777777778, \"#fb9f3a\"], [0.8888888888888888, \"#fdca26\"], [1.0, \"#f0f921\"]], \"sequentialminus\": [[0.0, \"#0d0887\"], [0.1111111111111111, \"#46039f\"], [0.2222222222222222, \"#7201a8\"], [0.3333333333333333, \"#9c179e\"], [0.4444444444444444, \"#bd3786\"], [0.5555555555555556, \"#d8576b\"], [0.6666666666666666, \"#ed7953\"], [0.7777777777777778, \"#fb9f3a\"], [0.8888888888888888, \"#fdca26\"], [1.0, \"#f0f921\"]]}, \"colorway\": [\"#636efa\", \"#EF553B\", \"#00cc96\", \"#ab63fa\", \"#FFA15A\", \"#19d3f3\", \"#FF6692\", \"#B6E880\", \"#FF97FF\", \"#FECB52\"], \"font\": {\"color\": \"#2a3f5f\"}, \"geo\": {\"bgcolor\": \"white\", \"lakecolor\": \"white\", \"landcolor\": \"#E5ECF6\", \"showlakes\": true, \"showland\": true, \"subunitcolor\": \"white\"}, \"hoverlabel\": {\"align\": \"left\"}, \"hovermode\": \"closest\", \"mapbox\": {\"style\": \"light\"}, \"paper_bgcolor\": \"white\", \"plot_bgcolor\": \"#E5ECF6\", \"polar\": {\"angularaxis\": {\"gridcolor\": \"white\", \"linecolor\": \"white\", \"ticks\": \"\"}, \"bgcolor\": \"#E5ECF6\", \"radialaxis\": {\"gridcolor\": \"white\", \"linecolor\": \"white\", \"ticks\": \"\"}}, \"scene\": {\"xaxis\": {\"backgroundcolor\": \"#E5ECF6\", \"gridcolor\": \"white\", \"gridwidth\": 2, \"linecolor\": \"white\", \"showbackground\": true, \"ticks\": \"\", \"zerolinecolor\": \"white\"}, \"yaxis\": {\"backgroundcolor\": \"#E5ECF6\", \"gridcolor\": \"white\", \"gridwidth\": 2, \"linecolor\": \"white\", \"showbackground\": true, \"ticks\": \"\", \"zerolinecolor\": \"white\"}, \"zaxis\": {\"backgroundcolor\": \"#E5ECF6\", \"gridcolor\": \"white\", \"gridwidth\": 2, \"linecolor\": \"white\", \"showbackground\": true, \"ticks\": \"\", \"zerolinecolor\": \"white\"}}, \"shapedefaults\": {\"line\": {\"color\": \"#2a3f5f\"}}, \"ternary\": {\"aaxis\": {\"gridcolor\": \"white\", \"linecolor\": \"white\", \"ticks\": \"\"}, \"baxis\": {\"gridcolor\": \"white\", \"linecolor\": \"white\", \"ticks\": \"\"}, \"bgcolor\": \"#E5ECF6\", \"caxis\": {\"gridcolor\": \"white\", \"linecolor\": \"white\", \"ticks\": \"\"}}, \"title\": {\"x\": 0.05}, \"xaxis\": {\"automargin\": true, \"gridcolor\": \"white\", \"linecolor\": \"white\", \"ticks\": \"\", \"title\": {\"standoff\": 15}, \"zerolinecolor\": \"white\", \"zerolinewidth\": 2}, \"yaxis\": {\"automargin\": true, \"gridcolor\": \"white\", \"linecolor\": \"white\", \"ticks\": \"\", \"title\": {\"standoff\": 15}, \"zerolinecolor\": \"white\", \"zerolinewidth\": 2}}}, \"title\": {\"text\": \"Customer LTV Catogarization\", \"x\": 0.5}, \"width\": 800},\n",
       "                        {\"responsive\": true}\n",
       "                    ).then(function(){\n",
       "                            \n",
       "var gd = document.getElementById('7a82ea46-c430-4936-b867-0b4d6eb7943f');\n",
       "var x = new MutationObserver(function (mutations, observer) {{\n",
       "        var display = window.getComputedStyle(gd).display;\n",
       "        if (!display || display === 'none') {{\n",
       "            console.log([gd, 'removed!']);\n",
       "            Plotly.purge(gd);\n",
       "            observer.disconnect();\n",
       "        }}\n",
       "}});\n",
       "\n",
       "// Listen for the removal of the full notebook cells\n",
       "var notebookContainer = gd.closest('#notebook-container');\n",
       "if (notebookContainer) {{\n",
       "    x.observe(notebookContainer, {childList: true});\n",
       "}}\n",
       "\n",
       "// Listen for the clearing of the current output cell\n",
       "var outputEl = gd.closest('.output');\n",
       "if (outputEl) {{\n",
       "    x.observe(outputEl, {childList: true});\n",
       "}}\n",
       "\n",
       "                        })\n",
       "                };\n",
       "                });\n",
       "            </script>\n",
       "        </div>"
      ]
     },
     "metadata": {},
     "output_type": "display_data"
    }
   ],
   "source": [
    "# Getting the number of fundings according to year\n",
    "cnt_srs = ltv_make_model_r[\"LTV Category\"].value_counts()\n",
    "# sorting the years in ascending order\n",
    "cnt_srs = cnt_srs.sort_index()\n",
    "# setting uo the bar graph\n",
    "trace = go.Bar(\n",
    "    x=cnt_srs.index,\n",
    "    y=cnt_srs.values,\n",
    "    \n",
    ")\n",
    "# setting the layout\n",
    "layout = go.Layout(\n",
    "    title=go.layout.Title(\n",
    "        text=\"Customer LTV Catogarization\",\n",
    "        x=0.5\n",
    "    ),\n",
    "    font=dict(size=14),\n",
    "    width=800,\n",
    "    height=500,\n",
    ")\n",
    "\n",
    "data = [trace]\n",
    "fig = go.Figure(data=data, layout=layout)\n",
    "py.iplot(fig, filename=\"funding\")"
   ]
  },
  {
   "cell_type": "code",
   "execution_count": 24,
   "metadata": {},
   "outputs": [
    {
     "data": {
      "text/plain": [
       "Make                    0\n",
       "Model                   0\n",
       "City                    0\n",
       "Customer No.            0\n",
       "Invoice No              0\n",
       "Total_Expense           0\n",
       "Job_duration(in hrs)    0\n",
       "LTV                     0\n",
       "LTV Category            0\n",
       "dtype: int64"
      ]
     },
     "execution_count": 24,
     "metadata": {},
     "output_type": "execute_result"
    }
   ],
   "source": [
    "ltv_make_model_r.isnull().sum()"
   ]
  },
  {
   "cell_type": "code",
   "execution_count": 25,
   "metadata": {},
   "outputs": [],
   "source": [
    "temp_ltv_make_model_r=ltv_make_model_r.copy()"
   ]
  },
  {
   "cell_type": "code",
   "execution_count": 26,
   "metadata": {},
   "outputs": [
    {
     "data": {
      "text/html": [
       "<div>\n",
       "<style scoped>\n",
       "    .dataframe tbody tr th:only-of-type {\n",
       "        vertical-align: middle;\n",
       "    }\n",
       "\n",
       "    .dataframe tbody tr th {\n",
       "        vertical-align: top;\n",
       "    }\n",
       "\n",
       "    .dataframe thead th {\n",
       "        text-align: right;\n",
       "    }\n",
       "</style>\n",
       "<table border=\"1\" class=\"dataframe\">\n",
       "  <thead>\n",
       "    <tr style=\"text-align: right;\">\n",
       "      <th></th>\n",
       "      <th>Make</th>\n",
       "      <th>Model</th>\n",
       "      <th>City</th>\n",
       "      <th>Customer No.</th>\n",
       "      <th>Invoice No</th>\n",
       "      <th>Total_Expense</th>\n",
       "      <th>Job_duration(in hrs)</th>\n",
       "      <th>LTV</th>\n",
       "      <th>LTV Category</th>\n",
       "    </tr>\n",
       "  </thead>\n",
       "  <tbody>\n",
       "    <tr>\n",
       "      <th>0</th>\n",
       "      <td>audi</td>\n",
       "      <td>a4</td>\n",
       "      <td>ahmednagar</td>\n",
       "      <td>129425</td>\n",
       "      <td>1</td>\n",
       "      <td>1921.400</td>\n",
       "      <td>361.850833</td>\n",
       "      <td>1921.40</td>\n",
       "      <td>Low</td>\n",
       "    </tr>\n",
       "    <tr>\n",
       "      <th>2</th>\n",
       "      <td>audi</td>\n",
       "      <td>a4</td>\n",
       "      <td>bhubaneswar</td>\n",
       "      <td>259799</td>\n",
       "      <td>1</td>\n",
       "      <td>330.500</td>\n",
       "      <td>0.056944</td>\n",
       "      <td>330.50</td>\n",
       "      <td>Low</td>\n",
       "    </tr>\n",
       "    <tr>\n",
       "      <th>3</th>\n",
       "      <td>audi</td>\n",
       "      <td>a4</td>\n",
       "      <td>chennai</td>\n",
       "      <td>251998</td>\n",
       "      <td>1</td>\n",
       "      <td>243275.150</td>\n",
       "      <td>359.626667</td>\n",
       "      <td>243275.15</td>\n",
       "      <td>High</td>\n",
       "    </tr>\n",
       "    <tr>\n",
       "      <th>4</th>\n",
       "      <td>audi</td>\n",
       "      <td>a4</td>\n",
       "      <td>dharmapuri</td>\n",
       "      <td>99532</td>\n",
       "      <td>5</td>\n",
       "      <td>7304.606</td>\n",
       "      <td>60.879889</td>\n",
       "      <td>36523.03</td>\n",
       "      <td>High</td>\n",
       "    </tr>\n",
       "    <tr>\n",
       "      <th>5</th>\n",
       "      <td>audi</td>\n",
       "      <td>a4</td>\n",
       "      <td>ghazibad</td>\n",
       "      <td>141369</td>\n",
       "      <td>1</td>\n",
       "      <td>497.780</td>\n",
       "      <td>1.346111</td>\n",
       "      <td>497.78</td>\n",
       "      <td>Low</td>\n",
       "    </tr>\n",
       "    <tr>\n",
       "      <th>...</th>\n",
       "      <td>...</td>\n",
       "      <td>...</td>\n",
       "      <td>...</td>\n",
       "      <td>...</td>\n",
       "      <td>...</td>\n",
       "      <td>...</td>\n",
       "      <td>...</td>\n",
       "      <td>...</td>\n",
       "      <td>...</td>\n",
       "    </tr>\n",
       "    <tr>\n",
       "      <th>129521</th>\n",
       "      <td>volvo</td>\n",
       "      <td>volvo xc90</td>\n",
       "      <td>indore</td>\n",
       "      <td>256290</td>\n",
       "      <td>1</td>\n",
       "      <td>1480.000</td>\n",
       "      <td>6.383056</td>\n",
       "      <td>1480.00</td>\n",
       "      <td>Low</td>\n",
       "    </tr>\n",
       "    <tr>\n",
       "      <th>129522</th>\n",
       "      <td>volvo</td>\n",
       "      <td>volvo xc90</td>\n",
       "      <td>madurai</td>\n",
       "      <td>233657</td>\n",
       "      <td>1</td>\n",
       "      <td>1391.340</td>\n",
       "      <td>71.085833</td>\n",
       "      <td>1391.34</td>\n",
       "      <td>Low</td>\n",
       "    </tr>\n",
       "    <tr>\n",
       "      <th>129523</th>\n",
       "      <td>volvo</td>\n",
       "      <td>volvo xc90</td>\n",
       "      <td>palani</td>\n",
       "      <td>241519</td>\n",
       "      <td>1</td>\n",
       "      <td>11088.640</td>\n",
       "      <td>1.053333</td>\n",
       "      <td>11088.64</td>\n",
       "      <td>Medium</td>\n",
       "    </tr>\n",
       "    <tr>\n",
       "      <th>129524</th>\n",
       "      <td>volvo</td>\n",
       "      <td>volvo xc90</td>\n",
       "      <td>thane</td>\n",
       "      <td>148692</td>\n",
       "      <td>1</td>\n",
       "      <td>5243.440</td>\n",
       "      <td>0.184444</td>\n",
       "      <td>5243.44</td>\n",
       "      <td>Medium</td>\n",
       "    </tr>\n",
       "    <tr>\n",
       "      <th>129525</th>\n",
       "      <td>volvo</td>\n",
       "      <td>volvo xc90</td>\n",
       "      <td>thane</td>\n",
       "      <td>211959</td>\n",
       "      <td>1</td>\n",
       "      <td>12159.700</td>\n",
       "      <td>31.578889</td>\n",
       "      <td>12159.70</td>\n",
       "      <td>Medium</td>\n",
       "    </tr>\n",
       "  </tbody>\n",
       "</table>\n",
       "<p>120884 rows × 9 columns</p>\n",
       "</div>"
      ],
      "text/plain": [
       "         Make       Model         City Customer No.  Invoice No  \\\n",
       "0        audi          a4   ahmednagar       129425           1   \n",
       "2        audi          a4  bhubaneswar       259799           1   \n",
       "3        audi          a4      chennai       251998           1   \n",
       "4        audi          a4   dharmapuri        99532           5   \n",
       "5        audi          a4     ghazibad       141369           1   \n",
       "...       ...         ...          ...          ...         ...   \n",
       "129521  volvo  volvo xc90       indore       256290           1   \n",
       "129522  volvo  volvo xc90      madurai       233657           1   \n",
       "129523  volvo  volvo xc90       palani       241519           1   \n",
       "129524  volvo  volvo xc90        thane       148692           1   \n",
       "129525  volvo  volvo xc90        thane       211959           1   \n",
       "\n",
       "        Total_Expense  Job_duration(in hrs)        LTV LTV Category  \n",
       "0            1921.400            361.850833    1921.40          Low  \n",
       "2             330.500              0.056944     330.50          Low  \n",
       "3          243275.150            359.626667  243275.15         High  \n",
       "4            7304.606             60.879889   36523.03         High  \n",
       "5             497.780              1.346111     497.78          Low  \n",
       "...               ...                   ...        ...          ...  \n",
       "129521       1480.000              6.383056    1480.00          Low  \n",
       "129522       1391.340             71.085833    1391.34          Low  \n",
       "129523      11088.640              1.053333   11088.64       Medium  \n",
       "129524       5243.440              0.184444    5243.44       Medium  \n",
       "129525      12159.700             31.578889   12159.70       Medium  \n",
       "\n",
       "[120884 rows x 9 columns]"
      ]
     },
     "execution_count": 26,
     "metadata": {},
     "output_type": "execute_result"
    }
   ],
   "source": [
    "temp_ltv_make_model_r"
   ]
  },
  {
   "cell_type": "code",
   "execution_count": 27,
   "metadata": {},
   "outputs": [],
   "source": [
    "le=LabelEncoder()\n",
    "temp_ltv_make_model_r[\"Make\"]=le.fit_transform(temp_ltv_make_model_r[\"Make\"])\n",
    "temp_ltv_make_model_r[\"Model\"]=le.fit_transform(temp_ltv_make_model_r[\"Model\"])\n",
    "temp_ltv_make_model_r[\"LTV Category\"]=le.fit_transform(temp_ltv_make_model_r[\"LTV Category\"])\n",
    "temp_ltv_make_model_r[\"City\"]=le.fit_transform(temp_ltv_make_model_r[\"City\"])"
   ]
  },
  {
   "cell_type": "code",
   "execution_count": 28,
   "metadata": {},
   "outputs": [],
   "source": [
    "X=temp_ltv_make_model_r.drop([\"Customer No.\",\"LTV\",\"LTV Category\",\"Invoice No\"],1)\n",
    "y=temp_ltv_make_model_r[\"LTV Category\"]"
   ]
  },
  {
   "cell_type": "code",
   "execution_count": 29,
   "metadata": {},
   "outputs": [
    {
     "data": {
      "text/html": [
       "<div>\n",
       "<style scoped>\n",
       "    .dataframe tbody tr th:only-of-type {\n",
       "        vertical-align: middle;\n",
       "    }\n",
       "\n",
       "    .dataframe tbody tr th {\n",
       "        vertical-align: top;\n",
       "    }\n",
       "\n",
       "    .dataframe thead th {\n",
       "        text-align: right;\n",
       "    }\n",
       "</style>\n",
       "<table border=\"1\" class=\"dataframe\">\n",
       "  <thead>\n",
       "    <tr style=\"text-align: right;\">\n",
       "      <th></th>\n",
       "      <th>Make</th>\n",
       "      <th>Model</th>\n",
       "      <th>City</th>\n",
       "      <th>Total_Expense</th>\n",
       "      <th>Job_duration(in hrs)</th>\n",
       "    </tr>\n",
       "  </thead>\n",
       "  <tbody>\n",
       "    <tr>\n",
       "      <th>0</th>\n",
       "      <td>0</td>\n",
       "      <td>8</td>\n",
       "      <td>51</td>\n",
       "      <td>1921.400</td>\n",
       "      <td>361.850833</td>\n",
       "    </tr>\n",
       "    <tr>\n",
       "      <th>2</th>\n",
       "      <td>0</td>\n",
       "      <td>8</td>\n",
       "      <td>274</td>\n",
       "      <td>330.500</td>\n",
       "      <td>0.056944</td>\n",
       "    </tr>\n",
       "    <tr>\n",
       "      <th>3</th>\n",
       "      <td>0</td>\n",
       "      <td>8</td>\n",
       "      <td>375</td>\n",
       "      <td>243275.150</td>\n",
       "      <td>359.626667</td>\n",
       "    </tr>\n",
       "    <tr>\n",
       "      <th>4</th>\n",
       "      <td>0</td>\n",
       "      <td>8</td>\n",
       "      <td>507</td>\n",
       "      <td>7304.606</td>\n",
       "      <td>60.879889</td>\n",
       "    </tr>\n",
       "    <tr>\n",
       "      <th>5</th>\n",
       "      <td>0</td>\n",
       "      <td>8</td>\n",
       "      <td>635</td>\n",
       "      <td>497.780</td>\n",
       "      <td>1.346111</td>\n",
       "    </tr>\n",
       "    <tr>\n",
       "      <th>...</th>\n",
       "      <td>...</td>\n",
       "      <td>...</td>\n",
       "      <td>...</td>\n",
       "      <td>...</td>\n",
       "      <td>...</td>\n",
       "    </tr>\n",
       "    <tr>\n",
       "      <th>129521</th>\n",
       "      <td>26</td>\n",
       "      <td>217</td>\n",
       "      <td>786</td>\n",
       "      <td>1480.000</td>\n",
       "      <td>6.383056</td>\n",
       "    </tr>\n",
       "    <tr>\n",
       "      <th>129522</th>\n",
       "      <td>26</td>\n",
       "      <td>217</td>\n",
       "      <td>1077</td>\n",
       "      <td>1391.340</td>\n",
       "      <td>71.085833</td>\n",
       "    </tr>\n",
       "    <tr>\n",
       "      <th>129523</th>\n",
       "      <td>26</td>\n",
       "      <td>217</td>\n",
       "      <td>1473</td>\n",
       "      <td>11088.640</td>\n",
       "      <td>1.053333</td>\n",
       "    </tr>\n",
       "    <tr>\n",
       "      <th>129524</th>\n",
       "      <td>26</td>\n",
       "      <td>217</td>\n",
       "      <td>2002</td>\n",
       "      <td>5243.440</td>\n",
       "      <td>0.184444</td>\n",
       "    </tr>\n",
       "    <tr>\n",
       "      <th>129525</th>\n",
       "      <td>26</td>\n",
       "      <td>217</td>\n",
       "      <td>2002</td>\n",
       "      <td>12159.700</td>\n",
       "      <td>31.578889</td>\n",
       "    </tr>\n",
       "  </tbody>\n",
       "</table>\n",
       "<p>120884 rows × 5 columns</p>\n",
       "</div>"
      ],
      "text/plain": [
       "        Make  Model  City  Total_Expense  Job_duration(in hrs)\n",
       "0          0      8    51       1921.400            361.850833\n",
       "2          0      8   274        330.500              0.056944\n",
       "3          0      8   375     243275.150            359.626667\n",
       "4          0      8   507       7304.606             60.879889\n",
       "5          0      8   635        497.780              1.346111\n",
       "...      ...    ...   ...            ...                   ...\n",
       "129521    26    217   786       1480.000              6.383056\n",
       "129522    26    217  1077       1391.340             71.085833\n",
       "129523    26    217  1473      11088.640              1.053333\n",
       "129524    26    217  2002       5243.440              0.184444\n",
       "129525    26    217  2002      12159.700             31.578889\n",
       "\n",
       "[120884 rows x 5 columns]"
      ]
     },
     "execution_count": 29,
     "metadata": {},
     "output_type": "execute_result"
    }
   ],
   "source": [
    "X"
   ]
  },
  {
   "cell_type": "code",
   "execution_count": 30,
   "metadata": {},
   "outputs": [
    {
     "data": {
      "text/plain": [
       "0         1\n",
       "2         1\n",
       "3         0\n",
       "4         0\n",
       "5         1\n",
       "         ..\n",
       "129521    1\n",
       "129522    1\n",
       "129523    2\n",
       "129524    2\n",
       "129525    2\n",
       "Name: LTV Category, Length: 120884, dtype: int32"
      ]
     },
     "execution_count": 30,
     "metadata": {},
     "output_type": "execute_result"
    }
   ],
   "source": [
    "y"
   ]
  },
  {
   "cell_type": "code",
   "execution_count": 31,
   "metadata": {},
   "outputs": [],
   "source": [
    "X_train,X_test,y_train,y_test=tts(X,y,test_size=0.3,random_state=0)"
   ]
  },
  {
   "cell_type": "markdown",
   "metadata": {},
   "source": [
    "### Decision Tree Classifier"
   ]
  },
  {
   "cell_type": "code",
   "execution_count": 32,
   "metadata": {},
   "outputs": [
    {
     "name": "stdout",
     "output_type": "stream",
     "text": [
      "              precision    recall  f1-score   support\n",
      "\n",
      "           0       0.99      0.69      0.81      7284\n",
      "           1       0.90      1.00      0.95     20559\n",
      "           2       0.76      0.77      0.76      8423\n",
      "\n",
      "    accuracy                           0.88     36266\n",
      "   macro avg       0.88      0.82      0.84     36266\n",
      "weighted avg       0.89      0.88      0.88     36266\n",
      "\n"
     ]
    }
   ],
   "source": [
    "dt = DecisionTreeClassifier(criterion='entropy',max_depth=8,random_state=0)\n",
    "\n",
    "dt.fit(X_train,y_train)\n",
    "\n",
    "y_pred_dt = dt.predict(X_test)\n",
    "y_pred_dt_train = dt.predict(X_train)\n",
    "\n",
    "print(classification_report(y_test,y_pred_dt))"
   ]
  },
  {
   "cell_type": "code",
   "execution_count": 33,
   "metadata": {},
   "outputs": [
    {
     "name": "stdout",
     "output_type": "stream",
     "text": [
      "Training Accuracy :- 0.8816522362543429\n",
      "Testing Accuracy :- 0.8826490817556548\n"
     ]
    }
   ],
   "source": [
    "print(\"Training Accuracy :-\" , accuracy_score(y_test,y_pred_dt))\n",
    "print(\"Testing Accuracy :-\" ,accuracy_score(y_train,y_pred_dt_train))"
   ]
  },
  {
   "cell_type": "code",
   "execution_count": 34,
   "metadata": {},
   "outputs": [
    {
     "data": {
      "text/plain": [
       "<BarContainer object of 5 artists>"
      ]
     },
     "execution_count": 34,
     "metadata": {},
     "output_type": "execute_result"
    },
    {
     "data": {
      "image/png": "[encoded data removed]",
      "text/plain": [
       "<Figure size 432x288 with 1 Axes>"
      ]
     },
     "metadata": {
      "needs_background": "light"
     },
     "output_type": "display_data"
    }
   ],
   "source": [
    "plt.barh(list(X),list(dt.feature_importances_))"
   ]
  },
  {
   "cell_type": "code",
   "execution_count": 35,
   "metadata": {},
   "outputs": [
    {
     "name": "stdout",
     "output_type": "stream",
     "text": [
      "0.8568041397031141\n"
     ]
    }
   ],
   "source": [
    "### Cross Validation Score\n",
    "\n",
    "dt_cv_score=cross_val_score(estimator=dt,X=X,y=y,cv=5)\n",
    "\n",
    "print(dt_cv_score.mean())"
   ]
  },
  {
   "cell_type": "markdown",
   "metadata": {},
   "source": [
    "### Random Forest Classifier\n"
   ]
  },
  {
   "cell_type": "code",
   "execution_count": 36,
   "metadata": {},
   "outputs": [],
   "source": [
    "rfc=RandomForestClassifier(criterion='entropy',max_depth=8,random_state=0)"
   ]
  },
  {
   "cell_type": "code",
   "execution_count": 37,
   "metadata": {},
   "outputs": [
    {
     "data": {
      "text/plain": [
       "RandomForestClassifier(bootstrap=True, class_weight=None, criterion='entropy',\n",
       "                       max_depth=8, max_features='auto', max_leaf_nodes=None,\n",
       "                       min_impurity_decrease=0.0, min_impurity_split=None,\n",
       "                       min_samples_leaf=1, min_samples_split=2,\n",
       "                       min_weight_fraction_leaf=0.0, n_estimators=10,\n",
       "                       n_jobs=None, oob_score=False, random_state=0, verbose=0,\n",
       "                       warm_start=False)"
      ]
     },
     "execution_count": 37,
     "metadata": {},
     "output_type": "execute_result"
    }
   ],
   "source": [
    "rfc.fit(X_train,y_train)"
   ]
  },
  {
   "cell_type": "code",
   "execution_count": 38,
   "metadata": {},
   "outputs": [],
   "source": [
    "y_pred_rfc=rfc.predict(X_test)"
   ]
  },
  {
   "cell_type": "code",
   "execution_count": 39,
   "metadata": {},
   "outputs": [
    {
     "name": "stdout",
     "output_type": "stream",
     "text": [
      "              precision    recall  f1-score   support\n",
      "\n",
      "           0       0.99      0.69      0.81      7284\n",
      "           1       0.90      1.00      0.95     20559\n",
      "           2       0.76      0.76      0.76      8423\n",
      "\n",
      "    accuracy                           0.88     36266\n",
      "   macro avg       0.88      0.82      0.84     36266\n",
      "weighted avg       0.89      0.88      0.88     36266\n",
      "\n"
     ]
    }
   ],
   "source": [
    "print(classification_report(y_test,y_pred_rfc))"
   ]
  },
  {
   "cell_type": "code",
   "execution_count": 40,
   "metadata": {},
   "outputs": [
    {
     "data": {
      "text/plain": [
       "0.8814867920366183"
      ]
     },
     "execution_count": 40,
     "metadata": {},
     "output_type": "execute_result"
    }
   ],
   "source": [
    "accuracy_score(y_test,y_pred_rfc)"
   ]
  },
  {
   "cell_type": "code",
   "execution_count": 41,
   "metadata": {},
   "outputs": [
    {
     "data": {
      "text/plain": [
       "<BarContainer object of 5 artists>"
      ]
     },
     "execution_count": 41,
     "metadata": {},
     "output_type": "execute_result"
    },
    {
     "data": {
      "image/png": "[encoded data removed]",
      "text/plain": [
       "<Figure size 432x288 with 1 Axes>"
      ]
     },
     "metadata": {
      "needs_background": "light"
     },
     "output_type": "display_data"
    }
   ],
   "source": [
    "plt.barh(list(X),list(rfc.feature_importances_))"
   ]
  },
  {
   "cell_type": "code",
   "execution_count": 42,
   "metadata": {},
   "outputs": [],
   "source": [
    "score=cross_val_score(estimator=rfc,X=X,y=y,cv=5)"
   ]
  },
  {
   "cell_type": "code",
   "execution_count": 43,
   "metadata": {},
   "outputs": [
    {
     "data": {
      "text/plain": [
       "0.8299940378493306"
      ]
     },
     "execution_count": 43,
     "metadata": {},
     "output_type": "execute_result"
    }
   ],
   "source": [
    "score.mean()"
   ]
  },
  {
   "cell_type": "markdown",
   "metadata": {},
   "source": [
    "### XgBoost Classifier"
   ]
  },
  {
   "cell_type": "code",
   "execution_count": 44,
   "metadata": {},
   "outputs": [
    {
     "name": "stdout",
     "output_type": "stream",
     "text": [
      "              precision    recall  f1-score   support\n",
      "\n",
      "           0       1.00      0.68      0.81      7284\n",
      "           1       0.90      1.00      0.95     20559\n",
      "           2       0.75      0.77      0.76      8423\n",
      "\n",
      "    accuracy                           0.88     36266\n",
      "   macro avg       0.88      0.81      0.84     36266\n",
      "weighted avg       0.89      0.88      0.88     36266\n",
      "\n"
     ]
    }
   ],
   "source": [
    "xgb=XGBClassifier()\n",
    "xgb.fit(X_train,y_train)\n",
    "y_pred_xgb=xgb.predict(X_test)\n",
    "accuracy_score(y_test,y_pred_xgb)\n",
    "print(classification_report(y_test,y_pred_xgb))\n"
   ]
  },
  {
   "cell_type": "code",
   "execution_count": 45,
   "metadata": {},
   "outputs": [
    {
     "data": {
      "text/plain": [
       "0.8518986150806622"
      ]
     },
     "execution_count": 45,
     "metadata": {},
     "output_type": "execute_result"
    }
   ],
   "source": [
    "scores_xgb=cross_val_score(estimator=xgb,X=X,y=y,cv=5)\n",
    "scores_xgb.mean()"
   ]
  },
  {
   "cell_type": "code",
   "execution_count": null,
   "metadata": {},
   "outputs": [],
   "source": []
  }
 ],
 "metadata": {
  "kernelspec": {
   "display_name": "Python 3",
   "language": "python",
   "name": "python3"
  },
  "language_info": {
   "codemirror_mode": {
    "name": "ipython",
    "version": 3
   },
   "file_extension": ".py",
   "mimetype": "text/x-python",
   "name": "python",
   "nbconvert_exporter": "python",
   "pygments_lexer": "ipython3",
   "version": "3.7.4"
  }
 },
 "nbformat": 4,
 "nbformat_minor": 2
}
